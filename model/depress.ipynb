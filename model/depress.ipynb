{
 "cells": [
  {
   "cell_type": "markdown",
   "metadata": {},
   "source": [
    "# Machine Learning Approach for Depression Prediction Through Tweets"
   ]
  },
  {
   "cell_type": "code",
   "execution_count": 1,
   "metadata": {},
   "outputs": [],
   "source": [
    "#!/usr/bin/env python3\n",
    "import numpy as np\n",
    "import pandas as pd"
   ]
  },
  {
   "cell_type": "markdown",
   "metadata": {},
   "source": [
    "# load dataset"
   ]
  },
  {
   "cell_type": "code",
   "execution_count": 2,
   "metadata": {},
   "outputs": [],
   "source": [
    "data = pd.read_csv(\"tweets_combined2.csv\")"
   ]
  },
  {
   "cell_type": "markdown",
   "metadata": {},
   "source": [
    "# Preprocessing"
   ]
  },
  {
   "cell_type": "code",
   "execution_count": 3,
   "metadata": {},
   "outputs": [
    {
     "data": {
      "text/html": [
       "<div>\n",
       "<style scoped>\n",
       "    .dataframe tbody tr th:only-of-type {\n",
       "        vertical-align: middle;\n",
       "    }\n",
       "\n",
       "    .dataframe tbody tr th {\n",
       "        vertical-align: top;\n",
       "    }\n",
       "\n",
       "    .dataframe thead th {\n",
       "        text-align: right;\n",
       "    }\n",
       "</style>\n",
       "<table border=\"1\" class=\"dataframe\">\n",
       "  <thead>\n",
       "    <tr style=\"text-align: right;\">\n",
       "      <th></th>\n",
       "      <th>Index</th>\n",
       "      <th>tweet</th>\n",
       "      <th>Affect_Dimension</th>\n",
       "      <th>target</th>\n",
       "    </tr>\n",
       "  </thead>\n",
       "  <tbody>\n",
       "    <tr>\n",
       "      <th>0</th>\n",
       "      <td>0</td>\n",
       "      <td>Best evening adult drink w/chocolate #satisfac...</td>\n",
       "      <td>joy</td>\n",
       "      <td>0</td>\n",
       "    </tr>\n",
       "    <tr>\n",
       "      <th>1</th>\n",
       "      <td>1</td>\n",
       "      <td>A SPELLBINDING performance by @DebsNewbold. El...</td>\n",
       "      <td>joy</td>\n",
       "      <td>0</td>\n",
       "    </tr>\n",
       "    <tr>\n",
       "      <th>2</th>\n",
       "      <td>2</td>\n",
       "      <td>@LogitechUK Been there done that</td>\n",
       "      <td>fear</td>\n",
       "      <td>0</td>\n",
       "    </tr>\n",
       "    <tr>\n",
       "      <th>3</th>\n",
       "      <td>3</td>\n",
       "      <td>I love #tattoos but seriously #justtattooofus ...</td>\n",
       "      <td>anger</td>\n",
       "      <td>0</td>\n",
       "    </tr>\n",
       "    <tr>\n",
       "      <th>4</th>\n",
       "      <td>4</td>\n",
       "      <td>Well. Its been like two weeks and I still feel...</td>\n",
       "      <td>Depression</td>\n",
       "      <td>1</td>\n",
       "    </tr>\n",
       "  </tbody>\n",
       "</table>\n",
       "</div>"
      ],
      "text/plain": [
       "   Index                                              tweet Affect_Dimension  \\\n",
       "0      0  Best evening adult drink w/chocolate #satisfac...              joy   \n",
       "1      1  A SPELLBINDING performance by @DebsNewbold. El...              joy   \n",
       "2      2                   @LogitechUK Been there done that             fear   \n",
       "3      3  I love #tattoos but seriously #justtattooofus ...            anger   \n",
       "4      4  Well. Its been like two weeks and I still feel...       Depression   \n",
       "\n",
       "   target  \n",
       "0       0  \n",
       "1       0  \n",
       "2       0  \n",
       "3       0  \n",
       "4       1  "
      ]
     },
     "execution_count": 3,
     "metadata": {},
     "output_type": "execute_result"
    }
   ],
   "source": [
    "data.head()"
   ]
  },
  {
   "cell_type": "code",
   "execution_count": 4,
   "metadata": {},
   "outputs": [],
   "source": [
    "data = data.drop(['Affect_Dimension'], axis=1)"
   ]
  },
  {
   "cell_type": "code",
   "execution_count": 5,
   "metadata": {},
   "outputs": [],
   "source": [
    "# change long column names to short one\n",
    "data.rename(columns={'tweet':'Message',\n",
    "                     'target':'Label'}, inplace= True)"
   ]
  },
  {
   "cell_type": "code",
   "execution_count": 6,
   "metadata": {},
   "outputs": [
    {
     "data": {
      "text/html": [
       "<div>\n",
       "<style scoped>\n",
       "    .dataframe tbody tr th:only-of-type {\n",
       "        vertical-align: middle;\n",
       "    }\n",
       "\n",
       "    .dataframe tbody tr th {\n",
       "        vertical-align: top;\n",
       "    }\n",
       "\n",
       "    .dataframe thead th {\n",
       "        text-align: right;\n",
       "    }\n",
       "</style>\n",
       "<table border=\"1\" class=\"dataframe\">\n",
       "  <thead>\n",
       "    <tr style=\"text-align: right;\">\n",
       "      <th></th>\n",
       "      <th>Index</th>\n",
       "      <th>Message</th>\n",
       "      <th>Label</th>\n",
       "    </tr>\n",
       "  </thead>\n",
       "  <tbody>\n",
       "    <tr>\n",
       "      <th>0</th>\n",
       "      <td>0</td>\n",
       "      <td>Best evening adult drink w/chocolate #satisfac...</td>\n",
       "      <td>0</td>\n",
       "    </tr>\n",
       "    <tr>\n",
       "      <th>1</th>\n",
       "      <td>1</td>\n",
       "      <td>A SPELLBINDING performance by @DebsNewbold. El...</td>\n",
       "      <td>0</td>\n",
       "    </tr>\n",
       "    <tr>\n",
       "      <th>2</th>\n",
       "      <td>2</td>\n",
       "      <td>@LogitechUK Been there done that</td>\n",
       "      <td>0</td>\n",
       "    </tr>\n",
       "    <tr>\n",
       "      <th>3</th>\n",
       "      <td>3</td>\n",
       "      <td>I love #tattoos but seriously #justtattooofus ...</td>\n",
       "      <td>0</td>\n",
       "    </tr>\n",
       "    <tr>\n",
       "      <th>4</th>\n",
       "      <td>4</td>\n",
       "      <td>Well. Its been like two weeks and I still feel...</td>\n",
       "      <td>1</td>\n",
       "    </tr>\n",
       "  </tbody>\n",
       "</table>\n",
       "</div>"
      ],
      "text/plain": [
       "   Index                                            Message  Label\n",
       "0      0  Best evening adult drink w/chocolate #satisfac...      0\n",
       "1      1  A SPELLBINDING performance by @DebsNewbold. El...      0\n",
       "2      2                   @LogitechUK Been there done that      0\n",
       "3      3  I love #tattoos but seriously #justtattooofus ...      0\n",
       "4      4  Well. Its been like two weeks and I still feel...      1"
      ]
     },
     "execution_count": 6,
     "metadata": {},
     "output_type": "execute_result"
    }
   ],
   "source": [
    "data.head()"
   ]
  },
  {
   "cell_type": "code",
   "execution_count": 7,
   "metadata": {},
   "outputs": [],
   "source": [
    "# basically index a non-informative parameter, so we can drop index column\n",
    "data.drop(columns=[\"Index\"], axis= 1, inplace= True)"
   ]
  },
  {
   "cell_type": "code",
   "execution_count": 8,
   "metadata": {},
   "outputs": [
    {
     "data": {
      "text/html": [
       "<div>\n",
       "<style scoped>\n",
       "    .dataframe tbody tr th:only-of-type {\n",
       "        vertical-align: middle;\n",
       "    }\n",
       "\n",
       "    .dataframe tbody tr th {\n",
       "        vertical-align: top;\n",
       "    }\n",
       "\n",
       "    .dataframe thead th {\n",
       "        text-align: right;\n",
       "    }\n",
       "</style>\n",
       "<table border=\"1\" class=\"dataframe\">\n",
       "  <thead>\n",
       "    <tr style=\"text-align: right;\">\n",
       "      <th></th>\n",
       "      <th>Message</th>\n",
       "      <th>Label</th>\n",
       "    </tr>\n",
       "  </thead>\n",
       "  <tbody>\n",
       "    <tr>\n",
       "      <th>0</th>\n",
       "      <td>Best evening adult drink w/chocolate #satisfac...</td>\n",
       "      <td>0</td>\n",
       "    </tr>\n",
       "    <tr>\n",
       "      <th>1</th>\n",
       "      <td>A SPELLBINDING performance by @DebsNewbold. El...</td>\n",
       "      <td>0</td>\n",
       "    </tr>\n",
       "    <tr>\n",
       "      <th>2</th>\n",
       "      <td>@LogitechUK Been there done that</td>\n",
       "      <td>0</td>\n",
       "    </tr>\n",
       "    <tr>\n",
       "      <th>3</th>\n",
       "      <td>I love #tattoos but seriously #justtattooofus ...</td>\n",
       "      <td>0</td>\n",
       "    </tr>\n",
       "    <tr>\n",
       "      <th>4</th>\n",
       "      <td>Well. Its been like two weeks and I still feel...</td>\n",
       "      <td>1</td>\n",
       "    </tr>\n",
       "  </tbody>\n",
       "</table>\n",
       "</div>"
      ],
      "text/plain": [
       "                                             Message  Label\n",
       "0  Best evening adult drink w/chocolate #satisfac...      0\n",
       "1  A SPELLBINDING performance by @DebsNewbold. El...      0\n",
       "2                   @LogitechUK Been there done that      0\n",
       "3  I love #tattoos but seriously #justtattooofus ...      0\n",
       "4  Well. Its been like two weeks and I still feel...      1"
      ]
     },
     "execution_count": 8,
     "metadata": {},
     "output_type": "execute_result"
    }
   ],
   "source": [
    "# yes, we didi it, lets check new data\n",
    "data.head()"
   ]
  },
  {
   "cell_type": "code",
   "execution_count": 9,
   "metadata": {},
   "outputs": [
    {
     "data": {
      "text/plain": [
       "(1755, 2)"
      ]
     },
     "execution_count": 9,
     "metadata": {},
     "output_type": "execute_result"
    }
   ],
   "source": [
    "# lets take a view of data fromall possible ways\n",
    "data.shape"
   ]
  },
  {
   "cell_type": "code",
   "execution_count": 10,
   "metadata": {},
   "outputs": [],
   "source": [
    "#we have 10314 row and 2 columns"
   ]
  },
  {
   "cell_type": "code",
   "execution_count": 11,
   "metadata": {},
   "outputs": [
    {
     "data": {
      "text/html": [
       "<div>\n",
       "<style scoped>\n",
       "    .dataframe tbody tr th:only-of-type {\n",
       "        vertical-align: middle;\n",
       "    }\n",
       "\n",
       "    .dataframe tbody tr th {\n",
       "        vertical-align: top;\n",
       "    }\n",
       "\n",
       "    .dataframe thead th {\n",
       "        text-align: right;\n",
       "    }\n",
       "</style>\n",
       "<table border=\"1\" class=\"dataframe\">\n",
       "  <thead>\n",
       "    <tr style=\"text-align: right;\">\n",
       "      <th></th>\n",
       "      <th>Label</th>\n",
       "    </tr>\n",
       "  </thead>\n",
       "  <tbody>\n",
       "    <tr>\n",
       "      <th>count</th>\n",
       "      <td>1755.000000</td>\n",
       "    </tr>\n",
       "    <tr>\n",
       "      <th>mean</th>\n",
       "      <td>0.354986</td>\n",
       "    </tr>\n",
       "    <tr>\n",
       "      <th>std</th>\n",
       "      <td>0.478645</td>\n",
       "    </tr>\n",
       "    <tr>\n",
       "      <th>min</th>\n",
       "      <td>0.000000</td>\n",
       "    </tr>\n",
       "    <tr>\n",
       "      <th>25%</th>\n",
       "      <td>0.000000</td>\n",
       "    </tr>\n",
       "    <tr>\n",
       "      <th>50%</th>\n",
       "      <td>0.000000</td>\n",
       "    </tr>\n",
       "    <tr>\n",
       "      <th>75%</th>\n",
       "      <td>1.000000</td>\n",
       "    </tr>\n",
       "    <tr>\n",
       "      <th>max</th>\n",
       "      <td>1.000000</td>\n",
       "    </tr>\n",
       "  </tbody>\n",
       "</table>\n",
       "</div>"
      ],
      "text/plain": [
       "             Label\n",
       "count  1755.000000\n",
       "mean      0.354986\n",
       "std       0.478645\n",
       "min       0.000000\n",
       "25%       0.000000\n",
       "50%       0.000000\n",
       "75%       1.000000\n",
       "max       1.000000"
      ]
     },
     "execution_count": 11,
     "metadata": {},
     "output_type": "execute_result"
    }
   ],
   "source": [
    "data.describe()"
   ]
  },
  {
   "cell_type": "code",
   "execution_count": 12,
   "metadata": {},
   "outputs": [
    {
     "name": "stdout",
     "output_type": "stream",
     "text": [
      "<class 'pandas.core.frame.DataFrame'>\n",
      "RangeIndex: 1755 entries, 0 to 1754\n",
      "Data columns (total 2 columns):\n",
      " #   Column   Non-Null Count  Dtype \n",
      "---  ------   --------------  ----- \n",
      " 0   Message  1755 non-null   object\n",
      " 1   Label    1755 non-null   int64 \n",
      "dtypes: int64(1), object(1)\n",
      "memory usage: 27.5+ KB\n"
     ]
    }
   ],
   "source": [
    "data.info()"
   ]
  },
  {
   "cell_type": "code",
   "execution_count": 13,
   "metadata": {},
   "outputs": [
    {
     "data": {
      "text/plain": [
       "Message    1755\n",
       "Label      1755\n",
       "dtype: int64"
      ]
     },
     "execution_count": 13,
     "metadata": {},
     "output_type": "execute_result"
    }
   ],
   "source": [
    "data.count()"
   ]
  },
  {
   "cell_type": "code",
   "execution_count": 14,
   "metadata": {},
   "outputs": [
    {
     "data": {
      "text/plain": [
       "0    1132\n",
       "1     623\n",
       "Name: Label, dtype: int64"
      ]
     },
     "execution_count": 14,
     "metadata": {},
     "output_type": "execute_result"
    }
   ],
   "source": [
    "data['Label'].value_counts()"
   ]
  },
  {
   "cell_type": "code",
   "execution_count": 15,
   "metadata": {},
   "outputs": [],
   "source": [
    "# processing"
   ]
  },
  {
   "cell_type": "raw",
   "metadata": {},
   "source": [
    "# Now we will be dealing with the text data, so need to understand the \n",
    "# natural language processing, first we need to perform data stemming process\n",
    "# In this process we will replace url,email,mobile, phone no, numbers, punctuations, stopwords, \n",
    "# with some unique string to avoid processing overhead\n",
    "# after that we will convert the all text data into lowercase to redice duplicate and \n",
    "# processing overhead\n",
    "# then we will perform the tokenization process i.e spilliting\n",
    "# then we will perform stemming to remove stopwords\n",
    "# later we will join it again"
   ]
  },
  {
   "cell_type": "code",
   "execution_count": 16,
   "metadata": {},
   "outputs": [
    {
     "name": "stdout",
     "output_type": "stream",
     "text": [
      "Requirement already satisfied: nltk in ./anaconda3/lib/python3.8/site-packages (3.7)\n",
      "Requirement already satisfied: regex>=2021.8.3 in ./anaconda3/lib/python3.8/site-packages (from nltk) (2022.3.15)\n",
      "Requirement already satisfied: joblib in ./anaconda3/lib/python3.8/site-packages (from nltk) (1.1.0)\n",
      "Requirement already satisfied: click in ./anaconda3/lib/python3.8/site-packages (from nltk) (8.0.4)\n",
      "Requirement already satisfied: tqdm in ./anaconda3/lib/python3.8/site-packages (from nltk) (4.63.0)\n"
     ]
    }
   ],
   "source": [
    "# import all required libraries here\n",
    "! pip install nltk\n"
   ]
  },
  {
   "cell_type": "code",
   "execution_count": 17,
   "metadata": {},
   "outputs": [],
   "source": [
    "from nltk.stem import PorterStemmer\n",
    "from nltk.corpus import stopwords\n",
    "import re\n",
    "# imported regular expressions\n",
    "# object stopwords is not callable here to create object\n",
    "ps = PorterStemmer()\n",
    "\n"
   ]
  },
  {
   "cell_type": "code",
   "execution_count": 18,
   "metadata": {},
   "outputs": [],
   "source": [
    "#Create a empty corpus to hold vector value\n"
   ]
  },
  {
   "cell_type": "code",
   "execution_count": 19,
   "metadata": {},
   "outputs": [
    {
     "name": "stdout",
     "output_type": "stream",
     "text": [
      "['best even adult drink w chocol satisfact nestl dark hot chocol chili powder cinnamon whiskey delici 鈽曪笍', 'spellbind perform debsnewbold electr physic sheer awe pleasur watch thank ueafli', 'logitechuk done', 'love tattoo serious justtattooofu reveng amp', 'well like two week still feel cut friendship fail constantli reassur could best us die insid constantli think fault', 'look good news today find twitter bummer 馃槩 depress badnew', 'depress think instead want mind healthi take break', 'vin diesel pretti cool seen movi riddick pitch black must work someth smile', 'wanna die', 'liz_hanburi oh jumper turn colder 馃槦 terrif day馃檵馃徏馃尭馃尲馃尰馃挄馃挄', 'love one would openli share length breadth mental health issu us knew sure turn around make us', 'sad talk highli someon end disappoint u make u look like pendeja', 's1dharthm asli_jacquelin foxstarhindi krishdk rajnidimoru look fun 馃榾 cant wait watch', 'want sleep dream bizarr still escap problem anxieti depress tiredoflif', 'good morn famili took time wish mom happi birthday thank 鉂 love bless', 'realli thought gonna famili ruin person want give kid too馃挃', 'jay z came retir drop album year let sink great day 馃檶馃徔', 'fuck day', 'dp_srk_rk go 3 berdych tomorrow noth worri easiest draw', 'watch eclips astral valley longest time total across countri thank', 'today 2 9 22 rough morn okay afternoon even realli rough lot anxieti right i鈥檓 focus calm medicin techniqu given', 'khizthigh lol idk realli khair good luck', 'want hot snap nadd rchar28 n nude snapsex snapchat sext cam hot trade pic swap horni chaud pussi', 'today day nsoar spirit nunfurl joy nwish bright week n bloodycrayonsspecialscreen', 'real happi come person truli love 馃槏 071117', 'first counsel session today quit nervou hope may good', 'usual twitter harass peopl issu interest twitter rule encourag yet everytim cut peopl commun', 'agavrielato extra hand everyday class merg see staff come work exhaust unwel avoid guilt trip execut need help dire situat student suffer teacher break', 'dad broke 97 exist pay bill crippl', 'let anyon steal joy rejoic victori overcom', 'seanhann still talk elect like stuck octob 2016 still get older', 'yet marliepack set back row bar high tackl support play outstand congrat 50th cap inspir', 'smoke day 2022 challeng stop 馃槈 first step alway hardest defeat make posit chang', 'hope eye camera record happi moment', 'jaclynhil jeffreestar snap chat get day w word inspir bless 鉂わ笍馃挄', 'jaden_lindn acquir deadli scowl like go pretti happi old', 'see sope perform otsukar alway make happi matter much bad day', 'life crazi pain aw journey full disappoint harass amp abus', 'kill', 'serious peopl punish children sass wit reward discourag', 'one love', '31daysofjoy laughter bring much joy good 鉂わ笍 laughter laughterish laughterisgoodforthesoul', 'everyday great still hard get right sad reason still', 'bibl read today show us lord done great thing us amp', 'see school idol fill energi make want cheer make also want sing danc togeth', 'cteeezi lmfao look sober 7102017 say 7102017 backward lol date yesterday', 'tayylittl mmm way start day 鈽曪笍 yummi', 'say fuck satan come first time icon dont even like satan wanna collect ya know type person', 'much 鈥渞ubble鈥 happen much 鈥渞ubble鈥 accumul wreak havoc live love god god readi someth chang want', 'let depress best', 'got ticket hamlet yay happi londontheatr', 'oh crap lost 100 poker game yesterday', 'malala happi day malala 馃憦馃徎馃槂i seem share birthday inspir women educ', 'two leg stool sampl humor seriou comedi', 'lil bro refil water bottl caus desert sleep cheer lazysi', 'ever frown upon someon chase dream rememb chase one humil', 'jamiebow first second willtnt music ear 馃槶鉂わ笍 shake missedy', 'everyon leav alon', 'parent think cut manipul 馃槩', 'eclipe2017 eclips carri larg jolt energi one cut wide swath across unit state chang excit transit', 'never happier lay awak watch stolenmc sleep thank make happi babe', 'much nigga knew mum live move 馃槉 definit one best feel recent lol', 'actual incred happi soul bodi connect abl amaz time live planet grateful馃檹馃徏', 'rain danc street rejoic rejoic thetimeofgreatsorrowisov', 'debrahorrock fash_rev shock stat fashionrevolut', 'cool introvert everyon act like depress peopl use introvert finest way gain attent sympathi stop fake social media', 'joannemarie2000 hope alway smile ty appreci ya', 'orin_atlanti much cheer around', 'take less muscl laugh frown stop facial amp', 'bless friend burst bubbl happi amp', 'vanbluesat infrared_rock among hawrelak park stage great venu livemus blue', 'lovinunit madrid throw huff morata de gea fuck', 'noth better go holiday weather grim home', 'ever get excit tri sleep amp', 'stop talk other don鈥檛 care', 'unrealist expect attract disappoint disappoint sad', 'thank realdonaldtrump use afghanistan polici 44 pretti smart n np look directli sun bad', 'love gg cheer eo apink rv mamamoo jjang', 'take less muscl laugh frown stop facial amp', 'futhiemasina lol nah u subscrib 4 r60 pm n pay r3 day thu anada r90 pm lol stream n use de app use ur data smile', 'heart pound shake hard feel like world close around panic attack horribl', 'noth better clear head smile round', 'depress suck like hell alway manag push come right back like horribl diseas oh well got alway got game take mind', 'noodl tea nyummmmmmi n yum yummi ddlg abdl chgl noodl', 'afford unhappi made far anyth anyon go take happi away', 'even mother want dead', 'joerogan look eclips without glass x ray vision awesom', 'happi birthday 馃槃 lucki bless ye 馃槀', 'presssec psalm 128 1 na song ascent bless everi one fear lord walk way', 'lfc_povey enjoy much馃槀 hilari headach laugh need stop', 'joyless faith one jesu die thegospel joy jesu happi', 'part want sad find ask', 'seek place belong answer 馃槶', 'recreat romant memori put chip shoulder masterchefau', 'lukewhc09 hahaaa fume 馃槥馃槀', 'aegyotaeta oyeakasha one favourit clip 馃槀', 'bit late say love zindagi live 100 experi gave goosebump big shout awesom peak', 'keval_91 chopduk sort chopduk', 'fw ralofamgoon hesit speak mind', 'symptom stronger longer they鈥檝 lasted鈥攖h like you鈥檙 deal depress', 'karma_cuti aw make smile 馃槈馃槝', 'doubleeph happi man', 'pretti sure indian mvp allstargam defens pitch', 'someon i鈥檓 like this鈥', 'annarxb lolitsluan oh lord love heart feel good happi make possibl xx', 'know much longer play stupid 馃槖馃様 heartbroken stupid sad', 'harden heart provoc day temptat wilder psalm 95 8 kjv', 'forgot last instanc smile', 'lone', 'take photograph life write journal motiv inspir life love inspir smile quotestolivebi', 'yesterday amaz thank u mtv cant wait interview ironi 7 10 also suppos 7 yr anv plus6yr', 'easi day school today last rehears show tomorrow excit play nanci oliv straight new project 馃槏', 'happi bday dineo_jazzz legit big sister never 馃槍 amaz day dude 馃檹馃徑', 'ever frown upon someon chase dream rememb chase one humil', 'grass grace grace natur work', 'everyth quiet drain listen start get worth love distanc', 'effect rave suck', 'fabul even mayflow theatr watch play goe wrong us stitch even veryfunni laughter', 'alway failur', 'night go get remind take anti sad med wake 1 30 gear grind think complic stuff deal determin figur bihhhhhh wanna sleep', 'feel belong world full hate greed war judgement war murder bulli apathi start make much sens ill lie think aforement 鈥榥ormal鈥', 'word simpli amaz peopl twist make say anyth 馃槄', 'watch video realiz gotten uglier depress', 'music empow nit liter bring peopl tear smile laughter mani emot', 'leav mani unask unansw question grandpar sad myroot abuelito', 'apart sneak alcohol dorm room worri loud bless', '鈥淚鈥檓 best鈥', 'dpm0319 funni lol clever', 'deni amp', 'mom puerto rican live color', 'pessimist see difficulti everi opportun', 'yummymummiesau lol 馃槏 show funni', 'edg seat gameofthron love dragonsonthewal', 'mayb bad', 'bro deadass suck tri best make one person happi end let everyon disappoint', 'justinoearlwood awesom news blue', 'somebodi call presid fucknugget 馃槀馃槀 idk laugh need morn 馃槶', 'ha 馃檭 ha 馃檭 realis never actual therapi still know depress sad time', 'problem peopl morn burn toung hot coffe like', 'abl anyth great either mankind keep frustrat bodyguard sri chinmoy', '鈥淗ave fear perfect never reach 鈥 鈥 salvador dal铆 agil designthink', 'f3alpha f3roswel preblast ni hand key roswel area park see gloom readi slip amp', 'damn dave chapel new netflix collect fuck hilari love sm', 'thank dolli hill relentless tenaci pc leach colleagu', 'definit know karaok song hmu britney shock', 'feel like 1998 come default i鈥檓 crack open vodka celebr nuffink chang', 'one right way live life kind genuin honest open love amp laugh often mind healingmb', 'tays5h happi birthday babi wish happi liiiiife鈽侌煉欌湪', 'anxieti lead insomnia', 'dad big day less 2 week away 馃槺 excit', 'abctv ausen annabelcrabb confess watch last week bad go episod access', 'peopl need learn smile 馃榿 laugh 馃槀馃槀 live life', 'interstinman pandoramus one noth els matter enter sandman unforgiv awesom song 馃槉', 'david brook sandwich tweet much need comic relief hilari sopressatta', 'step need taken alon it鈥檚 way realli figur need go need', 'felt laugh hard sleep rememb why馃う馃従鈥嶁檧锔忦煒傪煒傪煒', 'loveisland rap remind kid small would prepar perform cute crap 馃槀', 'sheikhsafina gut 馃槀馃槀馃槀 go sunk face sand', 'live borderlin person disord like', 'bbcbristolsport proud citi 2 bristol boy score great perform cider otib', 'depress help', 'thankyou everyon hope see u soon', 'need money great life eccentr creativ joy entertain want come', 'watch sport time andi murray rugbi would best go sound proof box anim 馃槀 馃槀', 'good morn today feel live 馃槉 goodmorn happi live', 'yaaaaaaaaaaaa scotti sinclair wonder magic', 'martinpincot haha martinpincot sent sext vicar holi holi twist bad 馃槀 n n fun joy laughter n馃懣 馃槆', 'sorri i鈥檝 ia', 'moist peopl offend littl typo', 'yesterday good motiv day realli want make differ bam鈥 overwhelm want sleep week even bother 馃槪', 'bad 5 mth job search made wors constant reject esp build rapport realli make doubt sens self amp question worth anyon els struggl w', 'sunshin away 鈾', 'granni smith flapjack crumbl die heaven yummi stac28 kimtin nadiyasbritishfoodadventur', 'love smile yours馃枻', 'ruthieel amp', 'miracles_j yaaay final brave enought comment vlive 馃槄', 'children depress result verbal abus grow face grow depress depress result verbal abus case', 'peopl never dealt depress think sad bad mood depress', 'left', 'skyq 馃憣馃徏 time skyuk sort internet', 'edutopia innov way admin see go classroom leadup awesom', 'boy left alon path love alway call bad onc one could understand pain go', 'noth happen make sad almost burst tear like 3 time today驴', 'friend', 'sunshin away 鈾', 'emaalymaa look beauti 馃槝', 'pleas comment tweeter look chart ador snap', 'it鈥檚 bit funni although you鈥檙 everyth nsometim better stranger n sing 馃槉', 'thought day n nremain unruffl n n2 the 3 13 say ye brethren weari well mani year', 'die soon', 'mir_btc eherium make everybodi happi', 'love shack shake', 'thesocialctv never leav couch excit weari 鉂わ笍', 'noth seem good', 'troubl titl everyth els dead', 'point maximum danger point minimum fear', 'villesportslaw way late parti friend yesterday hilari', 'proud product morn 馃槬', 'feel miser noth piec garbag everybodi scream use way buy anyth credit uncar paye forc move thing way heavi life miser', 'born alon die alon forev matter much give peopl matter love show god forsaken hole', 'mom danc bu stop might embarrass kid 馃槀馃槀 luckytohavem n momonfir giggl', 'worldfringeday heehe chuckl saw actual get laugh n馃榾', 'one stay', '', 'think sad today 357632477 year later im get sad', 'chuckwooleri feel sick read end dread civil war sad', 'iamdepr47974144 begin feel like', 'maxinewat love relentless thank voic countri', 'felt late', 'difficulti meant rous discourag human spirit grow strong conflict william elleri chan', 'i鈥檓 hurt yo finna go interweb real ghost mode type stuff keep safe rat 馃枻馃敧馃拪馃拤馃 馃 馃 馃拪馃拤馃敧馃枻馃槳', 'discourag failur learn thoma j watson motivationalquot success', 'amaz statement realli clear thing realdonaldtrump believem tremend maga russia', 'father god pray peopl suffer depress tonight place hand help get terribl dark depress fill heart hope heal christ jesu name amen', 'smile great invest collect better feel nice smile day goodmorn', 'tonysunivers fourth juli holiday mind heatwav get ha ngotta use mic 馃榾 nthank giggl', 'nail polish harden gummi place bottl pan boil water polish like new', 'peopl usual say waqt sabka badal ta h genuin true one ever say passag time memori broken love get delet', 'vitacocouk wow 馃槏 wonder excit would happi treat win 鉁 thank chanc 鉂わ笍锔 retweet amp', 'alway', 'jesus_luvs_u hello jillian amp', '1 3kohge銉糂uddh vers cleans oneself incens buddha', 'wanna runaway never look back 馃弮鈥嶁檪锔忦煉', 'well play radio station play song total eclips heart start eclips eclips brilliant', 'realiz slow turn charli brown', 'bad vibe contagi 馃檭 lol', 'i鈥檓 like tire sleepi kind tire', 'watch bobsburgersfox lunch anymor laugh way much accept crazyladi', 'laughter creat posit aura amp transform beauti dynam amp attract person n yoga yogalaugh', 'happiest right', 'respons current polit crap show hillari obama need start look new argument', 'dp_srk_rk go 3 berdych tomorrow noth worri easiest draw', 'fun today mad museum stratford upon avon', 'im slowli drown im tri save someon els', 'today鈥檚 world easi', 'feel like withdraw eas littl exhaust much feel sick anxiou tablet given side effect withdraw effect bad ill treat demand better us better way', 'welcom new follow gibbonwa halmarun cleanfaceskin mostli talk happi amp', 'pearljam ye love 馃挒馃挒馃挒馃幎馃幎馃幎馃帴鈿锯毦鈿攫煈忦煈忦煈 thankyou awesom', 'gener state person finish tri somebodi', 'welp decent day straight drain i鈥檓 ideat thought depress suck', 'ggreenwald macron slip moment clariti amp', 'alon let鈥檚 win day', 'mankind oldest written narr epic gilgamesh describ case sever eponym hero best friend paleolith savag enkidu die lethal diseas', 'tri goodmanbakeri 1st time gf 13 yr amp', 'great meet great friend superstar lawyer bryan freedman ftllp amaz person much mani', 'go harder everyon els enough relentless cleaner', 'psalm 2 12 kiss son lest angri perish way wrath kindl littl', 'useless', 'bullshit live end noth bother ever depress', 'today mark seven year sinc kyadondo terrorist attack mani lost love one mourn amp', 'achiev anyth thought must lift lift slavish anim indulg', 'difficult road often lead beauti destin keepgo keeppush startsomewher key start', 'happi right beaten second game crash bandicoot one go get mad 馃槨 game lol 馃槀', 'good noth', 'fast furiou marathon soon 鉁岎煆', 'confid c mo alway right fear ho wrong peter', 'love email academ advisor like hey besti it鈥檚 i鈥檓 gonna pass class i鈥檓', 'horni anyon horni bi sex london snapchat gaysnap hornysnap snapchatgay snapchathorni gaysnapchat hornysnapchat snapgay snap', 'strapless wed dress look aw peopl njuliann hough look great 馃憣馃徏', 'joealan kayleyhignel think timid think 拢50 fee et suggest wonkypolicywonk way go', 'sleep awak hour still come answer stress cantsleep sotir', 'come conclus americandadtb best anim show ever realli know tickl giggl muscl', 'make burst laughter bc', 'got place school start monday excit even 3 day haha', 'hayles_101 delaney keep awesom manchest unit transfer record n n馃槀', 'utterli disappoint would treat like suicid p pleas send money i鈥檓 suicid', 'today alreadi great start 馃檮', 'abl treat queen thing want pleas feel', 'stress insomnia worsen stress i鈥檓 lock self feed cycl insomnia caus pain caus unabl work caus stress suck 8', 'never underestim', 'anyon els feel realli discourag disconnect week colleg art student feel realli enjoy creat art strang', 'savagekermlt worri froggi nit soon time frogfearfriday', 'ugli', 'late feel dead skin', 'way gamescom17 expect meet excit', 'flaminggrillbi mistak grisk ask well growl mistak meant could learn improv', 'feel mental', 'pretti ran it鈥檚 tough', 'today eclips warm fuzzi entir countri giant group hug鉂わ笍馃槑馃挄 eclipsesolar2017 repair smile', 'rejoic alway pray continu givethank circumst god鈥檚 christ jesu 1 thess 5 16 18 joy', 'good morn start 2wheel free cours pune 8888006565', 'shout fellow 12step per got recoveri clean', 'fell rabbit hole went big bing fest howev long sinc came back back gnna give lol', 'best custom pleas inform order sent today butterfli excit technojoy music op 1 lt 3', 'dngokingyok hetero guilti pleasur 馃槀', 'feel low sad', 'want like eunic relentless', 'whounfollowedm glad see commun', 'thank god grace', 'night worth live cheat great eh xx', 'mood never good', 'theviberid great workout morn alongsid emily_gagnon thx courtney leg still', 'spread love mean matter hard life never stop smill happi alway', 'instaafp lemar even though wenger coy press confer', 'abl sleep boxer probabl one best pro come guy breezi', 'weathli someth money n goodmorn bless guidelif usa uk ksa', 'samasaurus6 happi got recent summer sale', 'alarm bel oc limburg 157901 unknown address', 'emot place ride past trauma consist exercis work much focu spin mind someth easi gm 馃 馃檹馃弸馃拑', 'depress 馃挃馃毇馃毇', 'talkfreelyalway westbrookdanni haha 馃憣馃徏it nice know take time find much flatter 馃槝', 'seem like anywher point either activ brew', 'proud parent fb kid school report shit grace arriv 馃槀馃槀馃槀 troublemak', 'solforco kristenscha yahoonew embarrass other take note past male femal h like behavior smart true feel', 'anybodi get like', 'consequ financi problem surpass consequ mental ill', 'suck phone got format earlier contact app gone 馃槬', 'feel one person level sometim reason depress sometim much word describ', 'beauti day lord made let us rejoic amp', 'rain hear thunder growl somewher good day read', 'depress doesn鈥檛 alway look everyon awar', 'depress suck gethelp', 'take smoke detector 4 month stop beep wonder lazi lol funni comedi laugh crackmeup hilari', 'joy light allow monday shenanigan take away hello tuesday greet smile', 'love black peopl mean resent white peopl', 'jeonqual chose right one tiwala pl 馃槹', 'find life hard tri can鈥檛 make eye contact tri cri everyday tri autism full struggl amp can鈥檛 escap past even though tri', 'one week sw go gym smash weekon goal sw', 'goodmorn live aggrav oomf morn 馃槑', 'tri best suce 馃槥馃槶馃槶馃槹馃槹馃槩馃槩 sad alon tear b bore boredtodeath', 'dean fujioka histori maker spotifi well break benjamin dear agoni amaz wonder iloveyouspotifi noonecaresbutido', 'lisacim acaciaevan best pictur ever seen beauti happi', 'new monica gotta shut episod hate get feel bad whatev', 'bombardi joyeux anniversair happi birthday bombardi inc', 'thought one would know find fail turn work day get shout miser', 'prisonplanet donaldjtrumpjr read piss trump bed 馃榾', 'di happi sa life pero may wattpad fulfil happi hahaha', 'russian bomb children hospit american yell 7 year old girl sell cooki appar take villag anymor feel overwhelmingli justifi right', 'i鈥檝 condit live life don鈥檛 succeed make improv whatev i鈥檓 horribl person failur can鈥檛 success someth lose sh go fit wherev talk neg', 'stress depress feel confus', 'kimberlee__xox awe thank much 鉂わ笍鉂わ笍 love', 'dansgam ye love make coffe drink home super', 'charliejgardn climatehuman suffer mix disord amp dear mr activ help recent industri make big war amp think could scream', 'nexxhelmet revit thank guy pleasur honor work _tea2wine_ expedit 馃挴 鈥硷笍馃憡聽馃弽锔忦煂', 'almost give up馃槬 still work', 'pattonoswalt ericaroman_ amaz folk foam mouth judg happi pattonoswalt', 'leav alon', 'self accept mental well journey often linear chang want see world chang want see', 'miss friend badli 馃槩', 'feel slightli apprehens amaz weekend off馃槉', 'happi discov code know want life age 23 amaz feel webdevelop', 'good morn 鉂わ笍 start everi morn wake think thing grate 馃檹 goodmorn', 'mental peac alway disturb', 'good afternoon uk chart us chart could take note us 馃槉', 'sometim better let thing go even hurt like hell', 'think dream motiv us fear paralyz us chri hogan dream fear life', 'confus inner fujoshi scream like tri hard smile laugh', 'dark lucha truli best', 'thing get realli mess like releas free roam world imposs know appli', 'donaldjtrumpjr day lot final admit may come back haunt', 'i鈥檝 bed sinc 7 30 asleep bed', 'mralexlawson earpiec feed gruell question irat news editor', 'surviv even though i鈥檓 embarrass teeth anxiou everyth dentist everyon offic patient super nice also new x ray technolog pretti interest', 'noth better go holiday weather grim home', 'genuin perfectli happi', 'see smile steam coffe cup', 'overcom depress', 'johntasspark well time think concern bright shini price tag match', 'ever fall asleep set alarm lord wake time anyway 馃檶馃徎 wonthedoit', 'queenjlouis mamaw_gereck awe thank 馃槉', 'offens love k cultur u love want bb 馃挅 person want get know countri', 'oh great brain tri kill today', '49 away 1 000 follow 馃榾 whiski whiskyfun smile humour giggl', 'guess beg futur', 'crazi magic moment fantast idea next novel momentum build nnoth better n write', 'help', 'feel like grim reaper day heheh n9 day pa 馃帺鉁夛笍', 'awar thar use hashtag eclips spell incorrectli sciencechannel nebraskam solareclisp giggl', 'ever knew would feel good wonder hour half interview 馃榿 smile success', 'one soul read know tire fed close break strength within even weak keep fight', 'soooooo excit lost villag 鉁 煒庰煂堭煄 煄佛煆', 'ahhhhhhhhhhhh dread omfg good jointeamalpha hydra_lord executivegoth matthewmerc enthusiami vorpahlsword satinephoenix', 'shaftesbury_lrc geniu love poster 馃槂 excit next monday 馃槂', 'depress gener hide behind joke meme', 'well done year 6 harlescottjrsch leaver concert today amaz confid funni notadryeyeinthehous 馃槏', 'let ask question n ndid realli let worri first respons n n blink breath startov getchafaithup', 'tiffanyreisz never dull moment two馃槀', 'smile yesterday smile today smyl tomorrow bcoz lyf short cri anyth nid strong', 'alolan_yusaku oh definit saw snap colour look great', 'i鈥檝 experienc it鈥檚 taken decad reach truth key messag never give 馃檹馃徎馃寛馃憤馃徎 馃晩', 'amaz watch variou news outlet show mix crowd ppl watch eclips racial tension msm hide', 'spread hope peac love joy tuesdaythought', 'shitti worst feel ever depress anxieti', 'coutbaek cri laughter way much hahahahahhahahahaahgahaha 馃槄馃槄', 'daddi wanna call talk bout wake shake ass 馃う馃徑鈥嶁檧锔忦煠 煆解 嶁檧锔忦煠 煆解 嶁檧锔', 'suppress emot destroy it鈥檚 hard can鈥檛 tell anyon reali feel i鈥檓 afraid come back deep', 'power thing pull heaviest moment thought thank', 'childhood nice adulthood mess', 'love outsid right sunris sunset sky bright blue bring peac', 'nice abl turn alarm clock next tuesday morn awesom', 'happi birthday primo_can_d bless one g 馃巶馃嵕', 'alway kind never allow unkind one person matter know limit', 'anoth big game day footballsask canada cup next ontario go get boy cheer 306footbal sask', 'head hurt much lost appetit', 'desir depress fuck super high today hope stay sane today 馃檭馃檭 i鈥檓 like 2 hour away feral', 'olivia prime exampl gorgeou outsid amp', 'good morn hope amaz wednesday wednesday positivevvib', 'it鈥檚 bittersweet bitter psych', 'austin let u take rest day tear happi cri amaz bestdayev kindasad cantfeelmyarm actuallydi', 'quit depress past day', 'depress real anyon tell differ lie feel alon know true', 'woke neighbor sing perfect ed sheeran 馃槉 mood set 馃槏', 'rough time pop feed need read even tear brief moment gave solac share hope help anoth', 'recessionari depressionari thread', 'camilalolie97 camila_cabello greec travel anywher arround europ next time come meet 馃槉', 'rachcolour smile 馃槃鈽旓笍', 'oh yeah feel good aliv alon joint thank god excit 鈽猴笍鈽猴笍鈽猴笍', 'arcadegirl64 actual realli like hear thought either way hesit share', 'corner till grave', 'might tri fill void heart sort thing place belong jesu christ music worri love smm', 'mrsebastian696 twitter happi birthday', 'sandraoldfield love comic hilari', 'ever frown upon someon chase dream rememb chase one humil', 'make happi make smile laugh much breath love long live f4f', 'incred worri sad okay', 'late dinner dad fam mountain appet consist pop tart coffe delight', 'muqryyi happi birthday machaaaa 馃巿馃帀馃帄 stay awesom murah rezeki selalu 馃憤馃徎', 'matter mani sad ghost man tear cri entitl forgiv realli sad', 'everyon mean', 'tough love everyday someday feel like grind pleasur isnt like eat favourit food everyday start lose tast', 'jordan help arya hunt moth lift get wall super ador kitten boyfriend ador hunt', 'merktheworld thread hilari', 'today selfcar beauti amp', 'last time check happi 鈽癸笍', 'friend famili peopl use fill time friend famili way alway', 'love watch bat even veget garden bliss happi urbanfarm', 'fallen temptat alwayssunni brilliant show hilari', 'cpc_hq immatur trumpi sad one guys馃槙 repres intellig moral depth cpc bulli notinmycanada', 'take sad know happi nabsenc valu presenc', 'hello twitter next tweet go bit gushi look away feel biliou', 'war disturb mental peac', 'say rogerfeder awestruck', 'got ride wit amanda coker break 77 year old bicycl world record awesom athlet amandacok tdf relentless', 'everyon won鈥檛 post true situat social media i鈥檒l point', 'shreyaghosh wait fv live session excit happi bdw sing lot song us session', 'broxtondaniel love anyth glad abl make infinit happy馃槉', 'unchart 4 crush least fun ever ha splay video game', 'medit help increas awar improv mind mind awar emot befriend emot kind', 'gunna streamat tommorow week busi check snapchat shower show premium snap webcammodel', 'goodeven 馃槅', 'ok fight silenc reach talk someon feel', 'bethanblog happi help anyth pleas hesit ask thank jame k', 'kerrykatona7 stunner cute like mum 馃槂', 'dc young fli hilari man', 'danabent well thank sincer 馃槉', 'hate first wake look tiktok realiz oh ban reason explan follow guidelin', 'discourag failur learn thoma j watson motivationalquot success', 'may alway rejoic keep head littl rais flood human thing st john chrysostom quot joy', 'y鈥檃ll sure right planet 馃', 'amaz mani use video youtub everyon share knowledg amp', 'fair right far peopl bend keep break noth tri live live', 'hope everyon safe fantast day 馃槉', 'standarddiari nail sarahtheduchess day amus written 56 book standardnew hilari funni', 'justapennam lettr realjameswood btw brilliant', 'myouimina u r idk extent u go teas 馃槂 u love much', 'alarm clock go actual turn alarm alarmclock thursdaythought', 'creator jack dorsey definit twitter short burst inconsequenti inform chirp bird', 'upset 馃槶', 'make burst laughter bc', 'wast pain recycl heart 馃挋', 'stay close peopl feel like sunshin may great secret joy life wednesdaywisdom', 'today need hurri end', 'great feel abl cheer pass second bike loop weekend great race sebastiankienl', 'max whitephob lit af rli put w dumb ass abt two yr ol boy deserv award lt', 'skynew cnn cnnbrk watch totalsolareclips ur channel right amaz happen usa', 'go bed dri clean hair bless', 'mfaizabdulkarim seriou 20 23 juli singapor holiday accompani friend job interview one friend', 'year keep get depress disappoint', 'hate give heart get broken hate', 'bout cri 馃槶 wanna sleep hate job 馃槱', 'much price poster sexi man sale clerk mirror sir n laughoutloud', 'beenthatkyd scroll back 17 gc miss earlier man toooooooooo funni 馃槀馃槀馃槀馃槀馃槀 hilari headassss', 'emot run high see dream deterior right front eye help watch dream deterior right front eye', 'product thing need done anxieti level decreas amp libido increas personalsexu', 'mum got rlli bad car crash complet injur found rlli sentiment piec jewelleri thought lost bless', 'accord ur last convers someon search urself ask person die next day u gonna peac 馃檮 real', 'see smile past like think nfind rest oh soul sea 艅 storm still know name n jesu n ilovejesu', 'spread smile around everywher go n spreadingsmil smile healtyliv laughoutloud happinessallaround', 'daddyslittlek wow spot cutest human aliv bless 馃槏', '鈥楽acrifice鈥 given left deserv noth sacrifici lamb', 'anxieti anoth word fear depress jealousi condit keep man emot disequilibrium 鈥淒on鈥檛 anxiou anyth rather bring request god prayer 鈥 phil 4 6 ceb', 'damn flamin 馃槀 n ni thought funni 馃槀馃槀', 'reliabl effect recoveri program led support experienc profession therapist person care provid motiv staff year experi addict treatment', 'thing feel ptsd', 'extra lazi today 馃槦', 'play juli 11 2017 09 30pm special 20', 'retal would awesom win 2 girl', 'dick gregori amp', 'upload first articl theproteinwork keep eye open 馃槈馃挭馃憣 recip nutrit gainz delici biggestfan', 'beauti thing nsmart nstrong nnice nhappi', 'theviberid great workout morn alongsid emily_gagnon thx courtney leg still', 'new music friday first singl next project untitl mattrod hiphop boston hartford animos thesemyc', 'full blown convers head probabl writer either insan like lol', 'listen love mutual much beauti peopl insid happi life love much', 'friend toxic ambitionless rude alway neg need new friend quick easi im drown let breath ly', 'reminisc good time rest week ion care 馃槳馃挴', 'say ur prdct ur surround bit intimid crazi amaz ppl met codecityco n8walk dianap_patton drmattkutz', 'ever slave better day', 'go back time 1st grade walk shove bulli playground littl asshol n stupidreasonstousetimetravel', 'nkrrao karamadai ranganatha pallikondeeswarar shiva avl dont outrag without reason kalps1616', 'ever hv feel doom know 馃槼', 'let season sorrow turn lifetim bitter fearfullymad gracefullysav', 'mon blue origin queenslandvsnsw blue hayneplan 馃數馃數馃數馃數馃數馃數馃數', 'hey appl hope guy releas horrend look copper color might well walk around pocket full penni 馃槀', 'realhughjackman b e uti smile nalway keep smile happi amp', 'help fight', 'decid seriou life', 'someth happen make start feel way', 'avrillavign mom saw ur insta ur pictur black white but鈽 nice ur smile winner馃挄馃挄馃尭馃尭馃尭', 'alway much time presenc annoy even', 'morn protein shake delici way assur start day right way 21 gm whey protein protein shake morn', 'matthewpouliot wow sooo much talent glad still play', 'pleas ibadan light constant馃槶馃槶馃槶馃槶馃槶 frustrat feel miser pleas joke need emerg help ejoooooooorrrrrr馃槶馃槶馃槶馃槶馃槶馃槶馃槶 life depend light馃げ馃げ馃げ', 'rosiehal bro dissapoint 馃槀 il let read next time tho 馃拋', 'know chose good husband prepar lunch earli morn 馃挒 tear', 'seen woman die depress woman reach point longer want talk woman die spirit still aliv never overlook anyon mental state', 'clear depress 馃憤馃憤', 'i鈥檓 find way back home self home i鈥檓 origin', 'noahwebhous review book fault spend much time webster introductori front matter brilliant', 'margogray48 waff48 trentnew katcampbellwx good morn margo are馃榾hav terrif tuesday dear', 'pine appl let call pineappl funni', 'emot hit night lack emot empti insid eat aliv', 'one provok one make happi unhappi one control', 'day lord hath made rejoic amp', 'stranger thing s2 25sec teaser excit 馃槻', 'roberts_an28 ahww noo shi bite 馃槴鉂', 'noth left live', 'meet someon use reli bless curs', 'age 50 watch close 1000 live prefer mental ill self esteem issu normi offens normi', 'need start read depress deep rest ion', 'today grate n nmi car nmi phone nmi thumb ngo walk n twitter n nwhat grate today', 'pattonoswalt ericaroman_ amaz folk foam mouth judg happi pattonoswalt', 'john 14 27 nlet heart troubl neither let afraid peac afraid', 'what breakfast today 2 slice bread toast spread butter amp', 'yoga overcom depress', 'littl yoga happi day noeishappi yogagirl yogaeverydamnday namast grate bless 馃檵馃槉馃檹', 'im way around feel upset sad', 'new gacha life episod jo one talk', 'new bit alarm', 'look forward congletonfc play fcunitedmcr tonight 7 30 start comeonthebear', 'wrote tire includ', 'edg seat gameofthron love dragonsonthewal', 'afford unhappi made far anyth anyon go take happi away', 'good morn quiet whilst fight latest low battl', 'havent activ late ahh last week super busi 馃槼馃槼 shut 馃拃 oopsi im back tho might fuck around watch dario argento movi smth sinc deadlin im avoid', 'watch reveng movi write journal let', 'said peopl never cross 10 seriou', 'it鈥檚 28 day month ago 10 02 2022馃晩馃挃', 'final start look forward sister wed friday car sort 鈽猴笍馃帀馃懓馃徎 reliev', 'hon miss dashwood whose manner pretti face offend done', 'bless wonder older sister happi', 'everi time see gbbo advert sugacrav yummi dietgonetohel 馃構馃構馃構', 'blackvoic keep gucci1017 sober clear mind see europ tour kill game right', 'new alarm pray wake morn feel like kesharos oh 馃槏 evolut', 'brenfosterr happi tuesday bren stop wish great day ahead fill love smile 馃槞馃槞馃槞 love miss 鉂', '5 kdramasssss ofcours pll bigbang theori grey anatomi grim game throne', 'time shine 馃槄', 'unfortun i鈥檓 person could screw million time would still you鈥', 'clearli appreci sub harmon one馃挴馃槀馃槀馃槀馃憤馃徔', 'suicid thought 馃槗 wish i鈥檇 help sooner lost u 馃槳', 'ivankatrump w profil pic', 'solar eclips annoy mood grate cantwait awe cool soon', 'graduat yesterday alreadi 8 famili member ask job got 馃槀 nightmar', 'readi start day practis daili medit today focu gratitud mani thing grate', 'perhap introvert accord text dont hesit friend anyon esp open mind one', 'unchart 4 crush least fun ever ha splay video game', 'alxcxrt babi boy sulk au contrair茅 chuckl shake head', 'nail polish harden gummi place bottl pan boil water polish like new', 'nice stay small citi time time starrynight', 'wish power multipli insight understand made clearer joy', 'teenmomog2 javimarroquin9 kaillowri cute minim sure bless', 'pass today would greatli appreci peac thought famili thank friend', 'daili devot bring 馃檶馃徑 joy life truli amaz studi word amen godisgood dailydevot', 'moment feel want fall asleep drown relax forget', 'deep blue ocean pain', 'ever write stori think nail think hot damn killer stori get like thirti reject yeah right', 'life seem easi everybodi els', 'say rogerfeder awestruck', 'wouldn鈥檛 young even possibl go pretend grow old sweet light', 'took dog walk see help mood doggi happi', 'anxieti suck man unintent make sad feel alon even amp sometim dont even know what wrong feel come u feel', 'strong', 'santorini beauti 馃槏', 'never dull moment u guy 馃挄', 'magicpencil whip cake batter cooki amp throw 馃榾 bakewel frangipani made almond', 'understand especi pressur school famili member exam anxieti depress might caus feel nervou disrupt sleep eat pattern', 'gotta best today keep happi let anyth bring big day today 馃挅馃 鈽 stoke', 'ian_beckett wonder day ian', 'fear lisajnc1951 god discourag god strengthen help time 41 10', 'start youtub channel techno ayan pleas follow friend', 'littl bit leav best bit love island far 馃槀馃尨 loveisland hilari no1', 'anyon tip help worri less hmu', 'tri offend nobodi', 'tweetheart2017 s_cala tooda donaldjtrumpjr jamesesmithjr34 gay whatsupwiththat nike adida', 'depress reduc product', '071304nathan happi bliss birthday', 'tue blue', 'joker job make public smile amp', 'wildpawsp starbeeston miss today 馃憤馃捇馃構 n nthey soooo yummi 馃槅', 'sad alon', 'kawells00 oh art wonder 馃槶', 'thesocialctv never leav couch excit weari 鉂わ笍', 'lighten enjoy life smile laugh get work thing kenneth branagh', 'girl dmme snap chat account', 'cnn cnnbrk fakenew day need laughter start day foxandfriend realdonaldtrump kilmead petehegseth', 'everyon fake world selfish', 'imagin small fat slow鈥 yep that鈥檚', 'mutual hesit kit fisto lightsab', 'happiest moment life actual spent laugh smile whole time mani peopl around n jonaxxbbtwkab39', 'good_therapi counsellorscaf talk depress today trend commun', 'anoth cup coffe cooki smart intellig brilliant best attorneysatlaw god made us happi', 'psalm 95 1 7 come let us sing the聽lord let us make joy nois rock salvat', 'morrgancatt dont bad smile smile often share smile fan', 'extrem talent manyexperi peopl wish dread yet amaz moment life psychic', 'streetlight come see star amaz solareclipse2017', 'great way end day night morn 馃槃', 'joyless faith one jesu die thegospel joy jesu happi', 'loganpaul share jolli cheer charact make uniqu', '鈥淚 guess feel got hurt鈥 final move on鈥 jr huff n puff', 'bolarotibi jamesaty jacksonhul danielmarion done interest inform exhilar 馃槃 collabandcomm', 'break alreadi broken', '鈥淚 sad feel miser say know far i鈥檝 come know think 鈥', 'alway find comfort posit bed alarm goe', 'arrifaun great way start day lmao 馃ぃ馃槀', 'believ burrito left sink nobodi though trash', 'well love check church facebook page given five star review sat wed bash', 'gm tuesday', 'fake smile smile use nowaday', 'sometim smile hide fear laugh hide tear', 'matter busi person care alway find time unknown', 'day lord made rejoic glad 馃檶馃徔馃専 bless favor love', 'stay offlin today like theo hesit anytim', 'messag cnbc send care melissa lee horribl smile joe kernan need brace', 'christinasnp great news must hurt folk happi 馃槉', 'crumbs_oh tradasro wingsscotland thesnp stvnew channel4new sinc fair scotland concern british state', 'alway good peopl undergo depress', 'love nightmar christma hercul much', 'discourag', 'found peraon like want someon els sad', 'hitta shake spot point finger', 'know day', 'gooood morn bless see anoth day read hope great morn', 'sabelomario a16z jimharri testimoni much bs broadcast last year pig fli', '3 44 common time wake middl night', 'first pumpkin coffe season morn thank dunkindonut automat good day 馃巸 ecstat pumpkineveryth', 'first class day amp', 'anyon struggl depress right feel feel fight suppress it鈥檚 ok feel ok tri take small step set tini task everi day take glass kitchen brush hair wash hand got', 'want want game said ye realiti', 'live anxieti like follow voic know insecur use get point loudest voic room one hear', 'take less muscl laugh frown stop facial amp', 'go lot late yesterday bday suicid skip bday stream fight hard fight right apolog stream lt 3', 'word explain thank woke today need know bless truli igotanotherdaytocreatelif 馃槏', 'serious consid take day stream day realli need 馃槀 馃槀 stream take day', 'pessimist see difficulti everi opportun', 'govern talk demand fair equal except come benefit pay gap pension polic etc etc give money lazi support work oooh im bullshit use excus free money', 'told would tri better listen other know make wrong decis friend stood disappoint friend even recent know fault happen hate', 'logrhythm logrhythm help first_financi bank unifi threat data streamlin respons learn case studi 鈥 鈥', 'better care other other wont care lone sad depress', 'okay su let hurt go 馃 hug ya bitter ass 馃槀馃槀馃槀', 'ten amaz snap power adrianmannarino get short back swing threat wimbledon rd 16 atp 馃幘馃幘', 'sethrogen huge fan work tell bake guy came sausag parti idea hilari', 'bright earli class today 馃槀馃憣馃従 miss nane nother one', 'nj_1288 spread cheer colleagu otherwis dull life like hey dude u got chill email 馃槣', 'butucancallmez alway wonder feel glad hear 馃槉', 'gammaru steel_con scott_helm peopl know seriou brother awesom', 'know import dead', 'sober 2 year note stuff give long term happi fun make eventu feel empti', 'happi birthday laurajillsom hope love wonder day fellow cancer fist bump', 'thoughtoftheday perpetu optim forc multipli colin powel quot optim posit', 'borovvicka 馃槀馃槀 love ur angri comment', 'depress narcissist simpli f king looser tri cope', 'everyon post instagram stori beach 馃檭', 'executivegoth tri free alpha trial watch dread sold worth subscript alon incred', 'may pleas advis affect doornpoort we鈥檝 dark sinc 17 00 yesterday', 'hear alon', 'got strike awesom blind peopl glori nosleep48', 'sleep drug bed dealer alarm cop school jail teamfollowback', 'hate mail gotta love n hate writerslif justsay begin start lovemylif positivevib', 'cant keep daili updat everi thing drain rn motiv anyth anymor feel free say hi someth idk cant like longer ngl need help', 'snorkel time furi key west', 'rain hear thunder growl somewher good day read', 'sometim wish could go back time eras embarrass moment 馃槵馃槴馃槶鉂わ笍馃尮', 'wednesday chandlerbmus kickstart begin readi chandlerbaymus chandlerbayep tantrum', 'two thing never leav depress macharr鉂わ笍馃槶馃槶', 'wholesom drunk send peopl meme compliment 2am snap', 'discourag failur learn thoma j watson motivationalquot success', 'yesterday visit railway station visit somewher jump front', 'jennvalley14 would hesit name 50 thing rather rn', 'na_dir omg savag prof hilari 馃ぃ馃ぃ', 'sometim discov good us isn鈥檛馃槒', 'huedrinkwat happi birthday cuzi xxx', 'anyon els feel tri process evil world', 'enjoy stargatesg1 watchcomet 馃憤馃徏馃槉馃摵 n stargat sg1 watchcomet comettv syfi scifi sciencefict tv freetv antenna enjoy', 'hey andi van dyke thank recent follow happi connect look forward next interest post', 'share smile today', 'tri get last venlafaxin isn鈥檛 happen everytim tri feel like i鈥檓 go fall i鈥檓 wobbl i鈥檓 close tear point need medic lost realli 馃様', 'excel custom servic ao morn thank khari help customerservic', 'varunsprincess_ huhh awesom 馃槏 ni obsess 馃槏馃槀', 'love bright life apart dark toxic plenti light colour smile good feel healthi life 馃崈馃崅', 'katramsland call action tv host john oliv urg viewer leav comment express displeasur fcc polici', 'listen danauerbach watch eclips dog park bliss', 'understand go nowaday mind stabl', 'day 4 brain bodi adapt pain 11 brain surgeri worst pain felt allow depress defeat spirit stand strong carri', 'tri nice convers sad depress now馃槶馃槶馃槶', 'load grate start look mirror 馃挒鉁 thursdaythought', 'work button come short 馃槓 fatti', 'hugaarondingl god way said line 馃槶聽馃挃 amaz lovedannybmil robron', 'die billion choos mom 1 choic', 'human tendenc cheat', 'took longer expect lol hella fun though good learn experi got question hesit ask', 'success moment start toward laudabl goal jbenson success quoteoftheday happi', 'ya bret alway make laugh ili 馃槝 bretmanrock', 'puppi adopt happi pic pleas share exposur put word good adopt prospect', 'think post gay weekend blue bought dildo 馃憤馃徎', 'want friendship group like friend 馃槯', 'everi horribl sharp pain heart caus know forget want believ 馃槖馃槷鈥嶐煉 煒', 'best thing australianninjawarrior tonight watch fail attempt bomb slider hilari laughingsohard 馃ぃ馃ぃ馃ぃ', 'shanemalwa majorpoonia devyanidilli believ ur mekka n madina also dikl u kiss dark dirti one', '16_vica strang amaz love pictur 馃槏', 'prefer death life', 'anoth miss someon dream need find way stop anoth depress day', 'love impli anger man anger noth care noth edward abbey love', 'morninggloria alway look ador 馃槈 trip canada', 'humbl sight lord die christ offend dead person cannot feel anyth right', 'huueduc thank happi sabb hope talk lunch', 'absolut blown away batthemus even 馃槏 incred set slick choreographi holi moli insaaan vocal awe', 'feel like smile fake add laugh surpris joy becom simplylovejesu', 'everi time fart dog jump fear hahahaha yass', 'sanga_warden probabl way convers sound funni suppress giggl 馃槉', 'health bodi badli burn often overnight twist vanish twinkl 鈥 pg 133 famili afterward', 'happier long time n happi smile beingm wifey', 'superdupertashi frown cheer', 'sometim stand alon make sure still', 'made joke amp', 'russ_kent isabeloakeshott inexplic well paid talk head lectur impenetr consultu speak dire', 'simpl wallpap ever 馃槀', 'let wake gmb see piersmorgan want put fist televis talkstrip tosspot gobshit', 'could 馃槶 rn bless friend support love everyth thank enough 馃槶鉂わ笍', 'email never sent messag remain unsaid voic never heard loss sorrow friend', 'skinnytast made chicken tikka masala w cauliflow amp', 'bug peopl concern much peopl choos money 馃槀馃檲', 'quit glad spot rain happi held 鈥榣unch鈥 daughter no1 could enjoy circu antic school', 'ebulli ih bul yunt adj boil', 'chick even talk look flatter', 'okay su let hurt go 馃 hug ya bitter ass 馃槀馃槀馃槀', 'extrem depress last month recent feel better better sleep schedul tri get morn sunlight fix depress anxieti complet sure help', 'beyond entertain 馃槀 case sad thing wit 馃槀馃槀 watch love dm 馃槝 flatter cantdoitlikem poorth 馃構', 'empireofthekop sponsor tango whopicksthesecolour youvebeentango kak', 'wooo happi right bought ticket see nialloffici next summer dublin wait 馃榿 niallhoran dublin music', 'heart stop take breath away fun like lot justsayin laugh', 'depress useless hopeless lone broken tire wanna die 馃槶馃槶馃槶馃槶 someon pleas help tell gonna okay', 'wish see anyon els suffer way', 'don鈥檛 let anyon ruin day bad day look 3 thing went well 馃憣馃徎', 'ssafa congratul damiandagg joshuathorn wish futur together鉂わ笍', 'bugsyseig read twitter lunchtim angri 馃槀馃槀', 'give sunshin wanna grow', 'impact us around us can鈥檛 pull us howev support us take step improv mood heal', 'chad sarah honestli ex 10 year ago 馃槀馃槀 cbb horrifi', 'thesocialctv guest show today want say enjoy experi arriv leav smile', 'good see richie_port smile feel posit hospit bed sbstdf tonight get well soon', 'world bad without hope hopeless look ideal viewpoint', 'could start convers love one depress want check seem pretti late', 'met new neighbor bond anoth neighbor due eclips bless', 'stay mad someon make smile', 'one client said look remind kim kardashian oh shoot hey watch nnot bad okay flatter', 'ithika love 馃槀', 'know make hero transform villain', 'ohvars ok open podcast make sob happi tear', 'ground control captain tom eclips mind blow solareclipse2017', 'make nebul look sexi darthvad breathless sexi nebul girl', 'baywatch movi friggin awesom funni delight', '鈥淲hoever fight monster see process becom monster gaze long enough abyss abyss gaze back 鈥 鈥 friedrich nietzsch', 'still traumatis abduct alien', 'travesti day blue lay tottenham what鈥檚 next', 'gm tuesday', 'think other n n death sad depress suicid', 'oooh depress start 馃が馃様馃槶', 'brain alway want you鈥檒l never have鈥 know鈥', 'kara1818 i鈥檓 glad hear kara don鈥檛 hesit get touch need cheryl', 'love want much timid egoist let wall', 'world truli full shit unfair make think fault even though thing perman happi world everyth last forev agre', 'dude still make water bed never got fornic woman one 馃槶', 'want know laugh solemn occas alway laugh vss365', 'amazonprimeday broke realiti anoth day depress', 'christinasnp great news must hurt folk happi 馃槉', 'birdtab pleasur 鈽 directori great way start explor new opportun', 'drop son morn shop girl shoe wed fun afternoon tl explod today 馃榾', 'camiiasvib happi birthday girli hope amaz day wish year happi success 馃挒', 'god said need fret worri fear pray trust believ beatpeac hesgotthi letfaitharis phil 4 6 7', 'aisharuby85 thank much keep gettin excit kid ur bday feel 馃槉', '馃槩馃挃noth never good enough', 'entrepreneur 18 real bless 馃檹馃徏 flexibl love one charg great bless', '2 hour kip class bless happi smile', 'mrosenbaum711 happi birthday 馃巿馃帄馃巵 awesom fill day awesom', 'benoitgomi au_si hugorosemont alex_corbeil pleasur hope use happi keep convers go', 'someday pick tell it鈥檚 worth end', 'sign may 馃挌persist sad 馃挌loss interest activ usual enjoy 馃挌difficulti carri everyday activ', 'daughter husband kid caught boatload red snapper amp mackerel port aransa enjoy fish feast delici', 'need alarm clock u excit puppi jump everi morn', 'huddl flame ndon let poetri scare nproduct wild n haiku', 'happi 1 year anniversari amp', 'asfandkhan6 glad went well 馃槃', 'home 鈥 grab cheer check sweet earli bird deal safe free day', 'help millionair busi small_busi millionair start_small_busi money start busi n', 'rabbit race 馃槉 simpli perfect n nso glad lebatardshow stugotz790 back', 'mani peopl world search way manag stress current realiti peopl found amaz outlet join wendi discuss creat cope tool untradit way 4pm et link bio http co npywcht7k6', 'start hate go back', 'love cheat', 'life constantli feel like i鈥檓 drag feet everyth made happi gone i鈥檓 miser', 'last time smile', '3 year sinc dad lost hi job cannot find', 'j_ugo_ topplanet63 vestiti black white stile blue brother', 'zayuuum bey tata got huge lol馃構 yummi', 'day month solucki bless cloud9 ecstat 馃懓馃槅馃殬馃挒', 'ugh guy bc new episod aliv rn', 'excit mighti qldmaroon nswrl maroon blue gonna spectacular game suncorpstadium 馃檵馃徑鈥嶁檪锔忦煓嬸煆解 嶁檪锔 qld 8', 'thursdaythought richest wealth wisdom strongest weapon peac best secur faith amp best tonic laughter', 'greenarmy46 thank glad enjoy 馃槂', 'smile', 'executivegoth tri free alpha trial watch dread sold worth subscript alon incred', 'everi girl deserv guy make smile', 'tire shit yo stop look like differ shit ain鈥檛 po 馃槥馃敧馃 馃拤馃枻馃拪', 'wish bless happi morn glad you馃 brighten someon day pursuit happi', 'think stigmat colleagu one hardest thing ever come deal mental ill whenev tri address someth react differ toward consid unstabl', 'rhyshenllan disabledsg ye like idea wait detail 馃榾', 'look old poem post poem day chronolog order write sad hope', 'tire shred tear fake peopl', 'tri stream go hiatu week hear back servic provid major issu take time fix hope back soon miss hope see soon', 'recip porkchop w appl cider glaze anyon tri meat steep vinegar amp', 'call camel hump humphrey joke writerslif hahaha wednesdaywisdom', 'soyoprincess misfitphoenix beastynewal gunderthswain racist fashion insult ignor', 'live downtown first time tiff happen schedul today excit thechildrenact stanleytucci emmathompson', 'cuttimecom ador need 馃槶', 'lil_hooper30 happi birthday twinnn 馃挀馃槝 great day love ya', 'past day understood pain', '10 day suffer dengu final good go 馃槑 rejoic', 'head anoint cup runneth pour empti cup delight love joy', 'nip bistro doubl vodka lemonad help eas pain that play bloodi love song', 'promilasingh15 thank much promila aunti 馃槂', 'coachbru lol awesom moment amp 馃槃 also share blogger friend mine', 'dare threaten thor puni weapon', 'wore short today boil yesterday go rain welcom', 'realli excit see team year especi move next 2 3 year guy start play signific minut', 'today alreadi great start 馃檮', 'ever fall asleep set alarm lord wake time anyway 馃檶馃徎 wonthedoit', 'sit play 3 game draw poorli life kill', 'jaimitoelcrack7 serious sit five minut watch awe never get less amaz', 'decid parent kid peopl look yo take away right take life live anymor', 'hella stay natur colleg', 'kinda glad know 2 4 peopl class talk reliev', 'never delet someon facebook give satisfact someon intimid certainli', 'entir life trigger warn', 'bemannn ugh even contain excit 馃槏', 'bobandtom chickmcgee1 thatjosharnold religi game inuit women play first one laugh breathless loss', 'u get oreo shake burger king', 'itsjohnjosh yessss glad 馃槉', 'listen brother listen old x', 'much neg around affect u one way anoth alway', 'offens love k cultur u love want bb 馃挅 person want get know countri', 'bad day tescoirl nightmar', 'usual happen love one murder', 'person handl unwant control much snap realiz point knew futur would look feel agon would鈥檝 check age ago shame govern', 'caxtonsupport sorri know dm stand know pm 馃槀 sadli dm creat account find', '6 afraid 7 ncaus 7 ate 9 7 eat 9 nbecaus eat 3 squar meal day 馃槣 joke meme dankmem funni', 'hope someday someon need useless guy well', 'wait wait need wait want wait love waiting鈥 waiting鈥', 'almost midnight start might done time wake tomorrow 馃挋', 'depress medic help', 'anteharp alway prefer quiver', 'got love power workday everyth work great smile ear ear today 馃槉馃榾鈽猴笍锔忦煒夝煒侌煒勷煒凁煒 馃榿 happi', 'marcmero happi anniversari great day', 'saddest stori ever told 鈥淚 love you鈥 one day either way never see parent lover friend etc', 'love see interact 馃樃馃檹 itsbeensolong laugh', 'ntyrbbygrl u make heart flutter', 'less 7 week go', 'mental unstabl place tuck deep away darkest part cerebr cortex find peac', 'arcadegirl64 actual realli like hear thought either way hesit share', 'lay bed stare ceil 5 hour depress look like atleast look pretti', 'satisfyingtast theanimalvin use make peanut butter energi ball time famjam love recip yummi', 'beauti day start cheer let joy lord spring lt', 'avoid facial cleanser contain harsh chemic irrit weaken protect barrier skin use natur cleanser', 'oh canada 馃嚚馃嚘 sung like terribl mlbtheshow17', 'readi adventur start get bore restless need buddi explor someon like new thing', 'may allah keep us safe provid may u replac sad happi amp', 'happi birthday day trip great day super nice weather blue sky good mood fun love ice cream lycklig f枚delsedag 枚land', 'sueleibman got audit lead role sagfilm actor moviestar awesom happi imdb rt', 'peopl run money era love exist', 'horni snapchat jchrisco19 horni nude trade dm snap girl fun bore like follo4follo follow retweeet likeforfolow', 'perus menu would like green tea shake pleas whip cream dust matcha perhap straw', 'beach today beauti beach beauti sand sea great like jelli fish though messageinabottl', 'happi everyon start realiz', 'want wake much better time asleep realli sad almost like revers nightmar like wake nightmar reliev woke nightmar ned vizzini', 'helen_bywat sdworxuki tonynjo9091 congratul jo fantast 30year inspir', 'ebulli ih bul yunt adj boil', 'year eric鈥檚 depress control life damag import relationship famili friend gave eric chanc rebuild relationship find purpos life', 'whatev want want great love abl make sacrific quot', 'happi win wednesday day day new possibl keep push keep head live love laugh reachforthestar', 'happi birthday ryanrolison24 awesom day keep cape great', 'im back lol reveng', 'share trial test know god alway stay brought 馃槉 n survivor grate truth', 'vibe want catch vibe time bo time take power back deserv noth best', 'anyon feel low worri thing get better soon', 'parent seen sad n offer pay 1st 3 month rent come home til get straight 馃槀馃槀馃槀馃槀 bless 鉂わ笍', 'said 鈥淚 tire 鈥 鈥渢ired鈥', 'feel like shit im gonna look like shit take note', 'today first paper 2 year freak lockdown go depress 馃檪 bye', 'sneak week get extrem idk think medic help noth', 'snake exist human form well', 'hate seein stori anim cruelti would any1 wanna hurt poor defenceless anim 馃槱馃槶 stopanimalcruelti heartbreak worldsgonemad', 'need jesu need merci grace', 'spntentat thank first solo run excit andnerv', 'never dull moment u guy 馃挄', 'laughter instant vacat ntake vacat n vacat laughter happi alenanaron lifecoach positv', 'introvert easi even express feel anyon', 'bertolacci join genoa dri loan option buy done deal sky last gone rejoic', 'don鈥檛 feel anyth don鈥檛 cri anymor take deep breath move', 'yay big shout friend guptajuhi90 welcom back twitter terrif writer stay tune tweet', 'mine babi headach love smile frown wrong right pain happi everyth', 'bitterbottom amaz pic 馃槏', 'buffettsong life spici bar b q hill look good look fine soveryfin wow', '2 week 馃槷馃槉 painfre', 'tone deaf express obtus insensit lack percept issu public sentiment suffer ship sunk amp', 'walu2go thisislukeowen ye especi love rambl chat love go topic like ten minut awesom', 'person goe straight room silent might might need downtim recharg', 'twitter small describ go mind right', 'theviberid great workout morn alongsid emily_gagnon thx courtney leg still', 'dobrienajc rile robert', 'never dull moment u guy 馃挄', 'edsheeran ballroom danc class tomorrow advic first timer', 'give anyth chanc talk mom amp', 'zelo96 right keep laugh alway smile 馃檪馃檭馃槈 nnow wat heck delet woke 馃槈馃槒', 'listen dune soundtrack quietli cri bed normal wednesday night', 'mayweath trash talk par nate diaz terribl would love see mcgregor ko mayweathervsmcgregor', 'happi nationalfrenchfryday although fri thing like frie beauti thursday 鉂', 'oklahoma south carolina idaho louisiana see fall 馃槏 excit', 'smile promis tomorrow next day next day endless possibl focu live happi', 'hillf1 silverstoneuk come saturday qualli race sunday wait 馃槉 excit needalewiscap', 'edg seat gameofthron love dragonsonthewal', 'thame beach datamosh glitch glitchart digitalart abstractart newmediaart imagemanipul londontown rivertham dystopia', 'feel like absolut shit today head pound nauseou woke around 11 gotten bed twice almost 2', 'still bit anxiou attack start subsid attack last night think need speak pain manag specialist time look funni anim meme', 'lost mani thing earn mani grate', 'weird happi grate posit open mind r love bliss success', 'life lone least cat', 'graysondolan happi tuesday gray 鉂も潳鉂 excit', 'anim love u uncondit unlik fake human', 'second attempt kill fail success', 'first person meet work 2 year end whole 40 minut focu talk pleas rememb peopl return person work take time', 'sad cri 馃挃 dad never understand 3rd child', 'tu hace reir make laugh 馃ぃ laugh friend jaja haha', 'miss hell xbox wanna play hope get tomorrow miss friend low key', 'casper wyom wit total 馃対馃寶 amaz eclipse2017', 'cancel chew gum devast', 'ever fall asleep set alarm lord wake time anyway 馃檶馃徎 wonthedoit', 'bless love bless someon love', 'kb_krishnabeura twitter twitterindia verifi congrat krishna sir 馃槂', 'love shack shake', 'indian fan hate joe buck im glad look old af 馃槀 bitter allstargam', 'need someon talk', 'whatev worri right forget take deep breath stay posit know thing get better', '_lanimoreno chem anatomi ib sport togeth amaz', 'know exist sheer utter joy content experienc grate 馃檹馃徑', 'yo dog look d3ad face see cri still beg treat', 'start insecurehbo club job everi monday must caught requir watch opjumpstartlb issara', 'timhorton pleas pleas pleas make jalape帽o jack sandwich regular looov', 'also somebodi anonym tri get fire simpli care nobodi', 'ill depress world fill war murder govern corrupt children bomb hospit sick effect thing 锔', 'thought get help', '鈥淎mong thing give still keep word smile grate heart 鈥 thezigziglar success leadership', 'could start convers love one depress feel concern late', 'see i鈥檓 breath knew i鈥檓 live never knew feel i鈥檝 fight 鈥淎live鈥 keychain avail soon', 'sometim feel like', 'aint flinch tho give lol', 'know someth sure weigh', 'thesarahfad even log sometim', 'psa read lay sort forget boil sun sweat pore face 馃檶', 'fan gamer think eamaddennfl 18 go rate dolphin offens defens special team rate amp', 'morn watch hummingbird two cardin bunch finch larg bunni babi bunni feast backyard happi', '1shawnt yall hoe better learn hip hop danc stop shake yall ass time馃槀', 'believ key attain want life start believ', 'best way get depress', 'never trust anyon even parent', 'tire ever tired tire day friend send posit thought', 'slave master u amp sore spirit cannot find deliver amp peac even quickli go give pleasur someon lowli sorrow guilti innoc suffer 鈥楢bdu鈥檒 bah谩', 'amyandrewsfox2 good morn ami smile 馃榾 good lion fan 鈽曗榾馃憵馃憼馃槑馃槝', 'tabby313 jen aw funni tide turn show elat amus goe love fest oh collus', 'iamsirobert go see hell hole halton depress', 'kawells00 bright kill heart馃槀', 'clearli breathless coverag cover real collus stori dnc amp', 'get unexpect phone call instantli cheer amp', 'poetri love 鉂わ笍 love heart love soul love real thing shi oo', 'discourag', 'grace suffici motiv bibl optim', 'senfeinstein senatordurbin senfranken gop donor like hobbylobbi prosecut fbi dir known materialsupport', 'littl girl said live someon appreci hard work tri fight addict live someon never tri see perspect understand jump soar among heaven', 'happi birthday beauti 馃挒馃尲馃尰 xan_radeb', 'megz1498 10am town go clean doh fret', 'thx directenergi host us stampedeshak 鉂わ笍 boy tomcochranemu trooper sloanmus 馃槏 great nite', 'nobetterfeelingthan teeter right edg n n joy pleasur happi bliss anticip', 'day 2 anger get angri everyth without reason handl small nois happen surround cannot shout tell need calm amp silent societi teach', 'happi happi birthday mrjaxtaylor hope day f n awesom drink two five', 'hate sleep depriv depress figur best way combat cook beef make fondu 5 30 morn 馃檭 help', 'jk realiz taehyung taehyung reveng would love', 'know whether exhaust depress', 'alway look bright side life 鈽 锔 motiv', 'kiranansi phew good much like ador cat dog snek alway make smile', 'sometim wish heed last haw', 'chadbow look forward next year heroesonlin con charlott get darkhawk sign awesom', 'gloomi day outsid like 馃槏馃枻', 'biggest problem overthink everyth', 'bugsyseig read twitter lunchtim angri 馃槀馃槀', 'super excit count hour see pink tomorrow night awesom 馃槏', 'avoid facial cleanser contain harsh chemic irrit weaken protect barrier skin use natur cleanser', 'life messi thing sadli im one would want jump balconi hold onto one small glimmer hope', 'blonderella26 seahawksfan7777 shitleri afern_alex eugenegu tonyposnanski realdonaldtrump get mad like like 馃ぃ', 'right teari eye lung empti heart full hatr kid died鈥', 'cnn pleas get sebstian gorka tv whole trump admin need stop deflect talk hillari', 'sometim wish could eras exist never live see much better everyon live', 'kolusola curlineo look happi smile beauti 馃挍', 'shake boot taffia full flow 馃槀馃槀', '鈥淎 think continu think remains鈥 jame allen', 'box 80 krispykrem donut awesom n nnow celebr birthday happi birthday n nneed celebr donut', 'chiropractor time crackl pop chiropractor', 'got w one amazonprim new thetick trailer hilar', 'great start excit new innov new challeng visasecur vss2017 brillianc', 'realli bad day yesterday feel low daughter came home school gave made feel like failur year rubbish prof advic taken advantag 馃捀 light one person believ http co kqkchl0pqu', 'chargerfanrv ur flippin funni love burn', 'worst sad sad taught hide', 'keep relentless eye goal persever joy dedic unwav focu get amyleighmercre', 'fear lisajnc1951 god discourag god strengthen help time 41 10', 'born gaslight often intern voic emot immun wound gaslight parent', 'marcmero happi aniversari hope wonder day', 'abl compar mental ill physic ill help peopl put thing perspect help bring stop stigma', '鈥淢ani peopl need desper receiv messag 鈥業 feel think much care mani thing care although peopl don鈥檛 care alone鈥 鈥 kurt vonnegut', '100 guarante end today either dissoci still dissoci', 'nbcnew markhalperin keirsimmon well funni caus know seriou russian mafia atti', 'fight depress exhaust', 'excit final 10 ep mtvteenwolf happi dylanobrien back tylerl_hoechlin return well coltonlhayn 馃槃鉂', 'thought get help', 'tarigsoptim way laugh tho lol 馃槅', 'mind free aspect fear pain amp', 'come blue stateoforigin origin nswblue nsw', 'pattonoswalt ericaroman_ amaz folk foam mouth judg happi pattonoswalt', 'struggl figur lightn work struck laugh lol', 'must one thursday blue 馃ぃ', 'whitey dinner call ahead shake burger seasonedcurlyfri havetoeatfast', 'start w fatigu hallucin spider flappi thing near face ignor stop someday alway come back cant anymor 馃槶馃槶馃槶', 'add snapchat dfdf_66 n dick pussi nude horni anal ass bigbooti bob cock blowjob sex sexi snap nani horni girl 馃敟馃挦馃憛馃憛馃憛', 'mcgregor clown 馃槀馃槀馃槀 hilari mayweathervsmcgregor', 'today love life move 馃槏馃槈馃槝 happi excit', 'know love contain ingredi love', 'saidtheski dasenergifest mitchell_thayn bro smile bring us smile share experi togeth', 'everyon bulli 馃様馃挃', 'act like dont care', 'want becom top idol make everyon happi cheer lot鈾', 'real wish talk wouldn鈥檛 32 year old deal speak listen care', 'chickfila forev chang life 馃槏 bless', 'iamdepr47974144 thought get help', 'know like whenev see smile feel happi around馃挄', 'sonafanart isnt earli that realli interest 馃槮 wonder film kusadasi make excit', 'excit tonight actual feel bit sick 馃槄', 'hope smile laugh soul lebeomak love much person n 馃槝馃槝馃槝馃槝 n 馃槝馃槝馃槝馃槝', 'stevecontenyc love 馃榾', 'pleas don鈥檛 talk least week', 'dwarsrivier_sa welcom industri fellow guid expect futur excit hairrais tale allround fun', 'life exempt public haunt find tongu tree book run brook sermon stone good everythin鈥', 'feel like someth kill insid', 'god help israel isaiah 41 10 u today don鈥檛 afraid discourag ur god strengthen help amp hold u', 'happi 12th birthday neopet retro nhappi 75th birthday harrison ford legendari nhappi 80th birthday krispi kreme delici', 'im okay okay', 'christinasnp great news must hurt folk happi 馃槉', 'happi clap along feel like happi truth', 'might tri fill void heart sort thing place belong jesu christ music worri love smm', 'arriv wait read learn specialneedsandlegalentitl 2nd edit good 1st edit', 'happi steven togeth experi 馃挒 beauti', 'paulcalafiore_ absolut happi bless tuesday 鉂わ笍', 'good place right happi 馃挍 want share positivevib optim followingmydream', 'turabelamedi wayyyyy wayi wayyyi 馃槃', 'mycharlibrown pcbcat43 happi birthday mom wonder cake deliveri your bless', 'depress weather depress depress sicknotweak', 'tumbl mind thought drift nightmar wast space', 'wrong alway avail right decid focu success', 'panic attack med', 'im sick hurt cri sleep', 'realli took lot courag open depress mother 2 amp', 'kokobop weird name nbut rememb said lit growl exo accept name', 'theopen royalbirkdale_ jimbo_7 cheer mattfitz94 friday wait', 'enjoy delici salad drench theon nectar greek extra virgin oliv oil 鈥 absolut delici mmmmm yummi healthi', 'justinjeffr mornin sexi phantom crush hotti happi tremend total fun tuesday love n hug enjoy xxoo love ya ton n bunch xxoo', 'amberx994874 butcher jim land ars hilari ninjawarriorau', 'cost happi 馃様馃様', 'happi birthday elcoltonshow continu great bless see mani', 'omg keep get better muggymik amp', 'talk indian parent 馃槥', 'human natur 鈥渉igh鈥 drug remov artifici 鈥渓ows鈥 we鈥檝 attach isn鈥檛 advoc drug use trick remov low without assist drug', 'galaxi global eateri terrif like free stuff lyft get free code oath', 'nikkiwood start use smile confid 鉂', 'bravoallstarz look like go amaz season cheer', 'look u 鉂わ笍 like okja look mija mija amp', 'even get subscript paramount plu becuas peic trash friend credit way get credit respect even famili even bother tri live normal life', 'im sick', 'would ever grate could record garden forgiv gentleman lukegoss mattgoss amaz', 'would time go get covid luck caus damag kill', 'jaimitoelcrack7 serious sit five minut watch awe never get less amaz', 'itsjordansroom good morn young ladi hope tuesday terrif', 'feel grate davidlynchfound la teach us medit happi wellnesswednesday justbreath foreverwel', 'like scare tire time it鈥檚 urg product it鈥檚 feel everyth feel paralyzingli numb鈥 intens', 'anxieti depress quit high late cope bing elden ring point hyper fixat game ad anyth held bay reason level quit thank', 'hello fellow gamer tell nazi', 'im liter sick head spend 209 stillz mask im ok', 'batman sit perch atop roof lone aloof broken rich tire sitch crimin run amuck sit depress luck', 'jaapunit sule go terrif player surpris see get game time year', 'thank god grace', 'harm could went back harm would http co sxjvctmnz5', 'snap', 'someth thought funny鈥 get instantli yell immedi shut thing guess can鈥檛 me鈥', 'wxladyfelicia wptv fox29wflx cityofboynton horribl pictur caus make jealou', 'titsjpeg yeah funni sexi 馃槏', 'chipotletweet never good experi 919 e fort ave locat never learn love chipotl terribl badservic', 'dark heart fill glee whenev hear thunder', 'traviswal strang fruit wow stori america brilliant soyouthinkyoucand', 'fuck 9 alreadi want lock apart pretend outsid world don鈥檛 exist', 'sorri failur disgrac', 'almost mental break i鈥檓 ok 馃檪鉁岎煆', 'gutoaberconwi major 635 member public believ offend rather 635 voter', 'love alon alon alon full room alon sleep alon thought would differ thought free thought treat want', 'peopl never understand isn鈥檛 outsid it鈥檚 insid can鈥檛 see someth doesn鈥檛 mean isn鈥檛 鈥', '馃挄 don鈥檛 control thought stop let control 馃挄', 'america nation two hundr million use car salesmen money need buy gun qualm', 'rrakoto42 took 39 second fli mozambiqu awesom', 'feel enyth stress happi good way feel numb 馃敧馃 馃槹馃槇馃枻馃挃', 'smartest way complex hard amp lengthi negoti consult insult bojo pleas take note never late learn', 'forgiv everyon rare hold grudg', 'na breast fit cure depress weh deh bodi 馃ゲ馃挃馃様', 'well it鈥檚 raini friday feel ok definit better last year even close want day day one step time progress come need patient determin', 'latmultilingu whattheworldneedsnow inde', 'start end day thank everi littl thing life come realiz bless truli', 'lost tri pleas everyon i鈥檓 lose everyon els tri find 馃枻馃挃馃', 'enjoy see thing ex happen karma 馃槀 whatgoesaroundcomesaround', 'friend turn notif confirm 馃槶馃挃馃槦鈽癸笍', 'mizuvera hope scare peopl own figur move midnight 馃槀', 'final good day week live hope turn corner seen mani fals dawn way certain', 'jk realiz taehyung taehyung reveng would love', 'bewar littl expens small leak sink great ship benjamin franklin', 'talk toxic workplac employ care mental well 馃槶how often employ listen even care one compani stat 馃挃 馃挃', 'smile princess look good', 'simplymissyoung playchoic rabid penguin plane', 'today alreadi great start 馃檮', 'gop senat refus repealandreplac need bear wrath constitu poll home state healthcar price2pay', 'cannot let comcast bulli indiedev pay faster lane indi dev fund ea', 'mgbarbieri spalktalk saw linkedin comment sent thank messag 馃榾', 'anoth day pain one feel anoth day stress depress one care anoth panic attack anoth headach anoth day deal peopl got point end gonna free', 'im never good enough anyon', 'beauti photo medicin soul', 'realrobfowl batthemus fourth visit row wow amaz ever believ go whatpart brilliant 馃', 'art piec inspir current state mental health', 'rather live prison behind bar prison insid mind', 'full optim fp summit yesterday thank melindag fp2020global unfpa dfid_uk think herfutur', 'come snap chat add asap mateo_bkni snapchat', 'happi birthday bb hope u amaz birthday 馃帀 ultsdonghan', 'snort laugh communitytv outtak donaldglov dannypudi hilari best duo ever commun', 'beauti morn beach anna maria island wife vacat bless happi', 'hello everyon 6 30 morn sun rise dominicanrepubl hope great day today keep', 'good news ten week friday pretti good day carefre', 'see truetwit nwho smile brightli nwell reckon cool nand reckon rightli', 'eahelp mcmalveiro hi miguel awesom thank much updat us 馃槃 clair', 'save load money drink start buy thing sobergirlproblem sobrieti', 'i鈥檓 disappoint lack energi last 2 week bad go work fold laundri even lack gym didn鈥檛 fight', 'morn deal depress etc tire rememb', 'heard quot went like want die throw sea see fight surviv want kill rather want kill someth insid', 'work alergi miser shit world miser alergi', 'absolut love peopl watch eclips cheer sun moon wonder 馃挏 beauti', 'wonder morn best friend hous work write eat delici fresh bread amp cake amp drink fresh 鈽曪笍', 'don鈥檛 like life feel guilti 鈥', 'cri listen pick head even look phone', 'recent bad mood alway angri depress', 'head pnc today get ball go goingforit nervou excit', 'thu said lord god 鈥滻 heard prayer seen tear behold heal you鈥 2king 20 5a hope joy jesu', 'jeonahjumma dont worri abt bb', 'want get sister ashleyclaw amp', 'irregularchoic 6 7 rose gold ball come 馃槶 devast', 'don鈥檛 know it鈥檚 covid long haul know day get bed complet exhaust 馃槱 morn hope today day won鈥檛 feel like anymor wait spring 馃檹馃徏', 'im fed life want die', 'well see eclipse2017 amaz realli cool even though last 2 min', 'yo fr note didn鈥檛 think i鈥檇 wake today much pain man鈥檚 go hurt like heart hurt yo', 'lack intimaci otherwis healthi relationship amp say person regardless lack intimaci pain pull back too馃様 find realli hard talk feel', 'imagin walk street silenc everyon spotifi fix shiz 馃槱馃槱馃ゲ', 'happi woman alway beauti woman 馃槉馃槆 n womanhood beingwoman', 'welcom new follow rahmanaccess wonder tuesday', 'love get call', 'malici aw struggl stay posit focus done cut hair cranestreet back apart tub side cut long hair sign aw anguish', 'happi product effort make someon els happi gretta brooker palmer', 'think dream motiv us fear paralyz us chri hogan dream fear life', 'ccfunkandsoul happi birthday mate 鉂 hope amaz day xx', 'sometim need messag say import', 'quot day come queen cersei iamlenaheadey power hungri peopl fear otherwis chill 馃憦', 'nole go easi girl heart wimbledon', 'everyon use accord need leav done', 'would love stop cri sometim today tenth cri 馃檮 deep sad top food poison mix miser', 'final time cuppa n time watch alreadi know epic ep game throne bliss', 'frozentsunami true gamer fr depress 馃檹馃徎馃檹馃徎馃檹馃徎', 'drew depress name yet psychologist want', 'proud father mustach babystach ador newborn', 'mockingbird start play random shake playlist tweetbot', 'mayb she鈥檚 lost behind pill save life stop live', 'parti hashtag10 cri want realli hashtag10 celebr shall rejoic love quirki one', 'heart happi want explod 鉂わ笍馃挜', 'said world say exist earth pain heartbreak', 'angieavliano hey angi pleas see local dealer happi assist', 'spend day creat smile today', 'chanyeol alway cheer clap loudli happi talk someth funni', '馃挏take med 馃挆eat cooki 馃敳dish 馃敳make pork tenderloin patti amp', 'daili action congruent big goal feel incred goal success justdoit happi enjoy life', 'im gonna rejoic im gonna see jr aron', 'bronliejacob happi birthday bronz鉂ｏ笍 love smmm wonder day', 'start lpn program octob 馃槍 bless', 'wear loos fit cloth allow skin breath prevent irrit risk area', 'look good depress worst thing', 'day 5 updat still live mini cold night didnt eat today 馃槙 everytim post someth someon dm tryimg scam dont know much longer go', 'cri one thing end cri everyht', 'solar eclips realli cool inspir', 'offens love k cultur u love want bb 馃挅 person want get know countri', 'cream tea ntcolbygarden delici', 'howev true feel stay compress let us hold late', 'dodg depress episod', 'realli love thefosterstv realli great start season resist', 'sometim feel content even though i鈥檓 sleep day i鈥檓', 'live life anxieti depress hard suck real', 'inseopirit lol never got part actual icsyv great show tear laughter', 'thedrambl tri pour sink bother make tast note look like cheap sake tast like', 'hold grudg like allow someon live rent free head wednesdaywisdom motivationalquot', 'long see face christ jesu rejoic anticip come', 'jeannepaulshop crocbead pleas color palett', 'learn lot depress could鈥檝 prevent celebr small win', 'think i鈥檓 get close cashier ask i鈥檓 urg say 鈥淚 wanna die 鈥 instead smile behind mask said 鈥淚鈥檓 good 鈥', 'woke feel low depress still current feel sometim that鈥檚 bi polar goe drug choic product feel low depress put list front help', 'well folx either combin feel engag probabl', 'extra lazi today 馃槦', 'get hard want keep go', 'fairtradeuknew adamawin wish joy day great food wine compani 馃憣', 'cant go school like cuz grade fuck', 'ceecee151 鈽 锔弔hi cloud sky 馃尌馃槀馃槀馃槀馃憤馃徑馃榿馃憦馃徑', 'happi birthday girli hope amaz day kkarlidawson', 'might hear 馃様 馃 馃挃', 'mani suffer amp', 'stink feel today overwhelm med help work help want crawl dark place hide real', 'hashtag let fuck see k thank i鈥檒l impuls barg it鈥檚 1 thing i鈥檓 great', 'nicol go somewher warm tropic nme okay nnicol oakland n nwhi one life ever look map lost', 'mine babi headach love smile frown wrong right pain happi everyth', 'watch jamesacast clip bed actual legend never fail put good mood comedi legend love laughter bedtim x', 'watch senat adelek joy danc step morn got roll dude bougi', 'chichupedathaa rofl 馃ぃ', 'take 3 hour shower wash depress', 'dont sink level insult rather rise level inspir deliv result insult', 'cat daddi n n cat love instagood photooftheday beauti cute happi fashion follo', 'happi birthday one mani founder fabul compani bless tuesdaymotiv begreat', 'depress confess mention friend can鈥檛 afford rent next month number suggest prostitut shock high lol 馃う馃徎鈥嶁檪锔', 'easi say 鈥 love you鈥 think twice say 鈥淚 need help鈥 reach whenev want express stay silent go allow travel place mind', 'gunnergal miss gale realli realli appreci follow back one biggest fan', 'kazalex_ happi birthday hope amaz day', 'go final start get readi move鈽猴笍', 'wonder seek happi insid cheer', 'noth left fight', 'love smile', 'ldn_muscl bright earli session morn work fullbodi ldnmladi surpris actual help reduc dom', 'karenlynnn dabbler glad meet well 馃槉', 'daili livesw must see happi make us grate grate make us happi', 'point treat person though feel sad say 鈥楾here hang get 鈥 sad less like head cold patienc pass like cancer', 'turn world smile take heart kiss', 'madli love love actionbronson food lt', 'wear smile one size fit inspir simpl simpleth motiv health healthcar relax goal', 'constantli feel like i鈥檓 deal intrus thought creat ego harass moral conscienc curb stomp guilt confid i鈥檓 ruin marriag know it鈥 i鈥檓 low money even lower hope', 'felt like ask therapist 鈥漺hat鈥檚 wrong marilyn you鈥檙 rather neg today 鈥 can鈥檛 count therapist lift u count lol', 'life constantli feel like i鈥檓 drag feet everyth made happi gone', 'depress tel die anxieti afraid die', 'overthink depress kill one day', 'raucou crowd today gcschoolsnc gcsartspd17 often one hear applaus cheer pd excit artsednc nakiahardi', 'omg darl best friend hubbi die today whilst holiday abroad shock tear grief sosad', 'amazonprimeday2017 basic new favorit holiday gp watch food storag pet toy book acquir amazon happi shop', 'deb_rene good morn welcom awesom ladi 馃 馃槏', 'earli night love', 'johntasspark well time think concern bright shini price tag match', 'nail polish harden gummi place bottl pan boil water polish like new', '馃槩馃槩馃槩馃槩 nice human kill 馃ズ馃ズ馃ズ馃槩 deal voic head 馃槶馃槶馃槶馃檹 see soon brother sister', 'handl depress without gete mad', 'absolutli shock servic bookingcom especi owe 拢327 expect better comp ive dealt 4 yr unhappi badservic', 'mcmalveiro hi miguel awesom thank much updat us 馃槃 clair', 'feel wrong tri best doi feel like fall behind', 'smile could never make frown', 'transcendent medit gave mental peac someth lack displac person armenia first week tm practic', 'choos someon make laugh 馃槀', 'dont even feel like talk someon suddenli come someon spend hour talk laugh cheer 馃挄', 'take antidepress year reason depress work well shocker tire foggi time wonder get new rx like low energi like', 'everyon want win swear never lost anyth victori sweet tast bitter defeat', 'billjoehugh sound delight 馃槄', 'absolut love unqualifi listen commut subway burst laugh peopl stare', 'thank send random kind peopl life need smile grate', 'anyon got its2 link need feel someth', 'follow famou chick snap put snap back amp next snap say dude stop send peepe cute 馃槀馃槀馃槀', 'amaz fast get depress minut someon', 'happi birthday ann wish best hope wonder day', 'lifewithselg despacito u came life nur aroma flare life nur almond eye make puls gush nur smile gleam bright', 'whenev life isn鈥檛 kind hope it鈥檚 kind 鈽猴笍鈽猴笍', 'love barista invit bday parti weekend alon made day 馃槉 happi grate bless', 'fall apart smile', 'spoilt even got kyli lip kit 馃槅', 'i鈥檓 pain i鈥檓 exhaust i鈥檓 sick feel like night want lay cri', 'got ride wit amanda coker break 77 year old bicycl world record awesom athlet amandacok tdf relentless', 'bu model industri make huge diff valu soft co cost structur scale diff hard co need know rais vc start', 'darker dark fall knee scream loud wait someon hear come help drown fall deep insid reach light', 'ever feel like loser one got plenti say come way want everi singl day', 'judg peopl', 'help_dms___ good lunch 馃槉', 'stevenmnuchin1 wife look ador 6 00 adorablewif adorablewed adorablehoneymoon adorablejet adorablejob', 'past success failur indic futur perform afraid take risk', 'latmultilingu thank shoutout see team mortonpark thursday smile amp', 'realdonaldtrump proof', 'joy come stop choos circumst make miser take courag creat joy life', 'wish chanc tell much mean much hurt don鈥檛 want', 'omg said kyungsoo look gloomi instant smile melt', 'hype real sagasofsundri dread amaz jointeamalpha', 'actuallynph realjameswood realiz act actual guy smh hercul ghostsofmississippi', 'much excit rome time next week get readi burn turn red 馃槀', 'chrisdrunkpoet musichouruk 馃挒馃浉鉁 love new music chri 馃専馃幆馃崕it otherworldli like awesom 馃 馃 馃徑鈥嶁檪锔忦煣滒煆解 嶁檧锔忦煣欚煆解 嶁檧锔忦煣欚煆解 嶁檪锔忊湪馃攩', 'moment randomli feel depress appar reason may indic actual miss someon', 'realiz lie lonh almost everi day mom cuz dont wanna tell what wrong make believ bad mom cuz fault', 'dear emma honor commun directli kindli give tremend opportun chat via what app 00966504634031 thx', 'anoth year close death', '1 grate love n2 grate miracl n3 grate music n beatdepress grate', 'depres heavi exaust', 'pray job 馃檹馃徏 show even creep mind pass phase countless time get hope', 'dicksonemili snap streak 260 amaz know commit', 'everi time think abt hobi cri start cri', 'somebodi told neg rude today realli got skin past 8 month absolut shit throw face uggh trust intent', 'movi day favorit today 馃槃 god love lil goth bean', 'promis would go blind still got 20 20', 'missmarilynx hahaha bigscottgibson almost fell sofa laugh point wee jump scare 馃槶', 'happi excit mamapink interact win gtg', '鉁 happi free confus lone time nit miser magic n陇', 'excit upcom cheer season 馃槵馃槼 cantsleep wideawak eat sleep cheer repeat', 'realli enjoy candl incens around hous moment bring sens calm 馃拞馃徑 candl incens', 'know other way real world problem seem like feel crush anyway crush diseas', 'mandzvest 馃槀馃槀馃槀 nthat work mani miser fok around 馃槀 nafternoon smiley馃槂x', 'passagefood tkmaxx_uk tesco ye thank bought load today happi', 'wednesday chandlerbmus kickstart begin readi chandlerbaymus chandlerbayep tantrum', 'bug peopl concern much peopl choos money 馃槀馃檲', 'chriscuomo bulli second grade classic', 'finish play mystic messeng didnt expect amount angst 銆掆柦銆抃n mysticmesseng feel', 'realdonaldtrump lizcrokin great start maga', 'dro everyth', 'good morn start 2wheel free cours pune 8888006565', 'londoneconom sometim judiciari leav breathless speechless', 'worst feel world huge weight heart one talk', 'tweet cool madden clip u got', 'yourhorrorhost amp', 'realli listen act like', 'decent start morn let鈥檚 hope stay like', 'keep mani secret head gonna explod noh hey notic u read see good morn n goodmorningword 馃挅', 'laughter strengthen relationship women attract someon abil make laugh', 'could depress still cheer strong', 'hey thetimmcgraw imwearingyourshirt today humbleandkind awesom timmcgraw wqmx 949wqmx keepinitcntri juliemn13', 'earli kick ass take name offens', 'let dark consum', 'clairepott mermaids_march 2minbeachclean woohoo enjoy clair happi tuesday', 'eras exist notic', 'rise shine alarm autotweet', 'closer get peopl distant becom idk wrong', 'umainoo bad day cheer lov 鈾 櫋', 'fan gamer think eamaddennfl 18 go rate dolphin offens defens special team rate amp', 'happi get paid tomorrow sort bloodi hair holiday', 'garyclarkjr serious best turn blue ever seen amaz', 'never stay silent let anyon intimid silenc let make world better safer place kid wallofsil', 'good head good heart alway formid combin nelson mandela', '馃槏馃い馃槏馃い馃槏 foodi yummi halalfood n twitter saw', 'love jenniferhorn laugh hard brianwhitman rif 馃槀 cri 馃ぃ馃ぃ chateaubriand morninganswerla', '1 samuel 18 15 nand saul saw great success stood fear awe', 'willlanno man u r bitter manu make great stride', 'dead hell', 'awilliamson54 dude kill ksr hilari aradionatur', 'horni anyon horni bi sex london snapchat gaysnap hornysnap snapchatgay snapchathorni gaysnapchat hornysnapchat snapgay snap', 'vvixi thank bbi 馃挌 tiff got pair probabl steal lol', 'rose pine green buttercup aliceblu sugar sweet', 'may great day hope get done today raini ugli jeez doesn鈥檛 help', 'need famili right 馃枙馃枙', 'hello everyon sinong excit na live show hahaha worri 馃槂馃槵', 'motiv tip great salespeopl know increas busi elimin consum complaint concern fear pet peev', 'askgst_goi without process boil dri cannot use coook', '1st shop experi paytm disappoint product still ship amp might cancel order unhappi paytmcar', 'catherinerusse2 ooh danc glee around live room emerg tardi christma', 'noth good happen day fail mayb commit suicid tire start everyth scratch see flourish still talk big gain noth tri posit fail', 'dobrienajc rile robert', 'tuckercarlson love relentless', 'breath breath world smile breath breath happi disappear breath breath love life breath breath wanna die', 'wednesday chandlerbmus kickstart begin readi chandlerbaymus chandlerbayep tantrum', 'niall handwrit beauti 馃槶', 'show love one care best support right', 'anyon feel like go univers want get degre time want drop', '鈥淲e hold bit longer sink monster ocean 鈥 foodparti', 'gonna find babi gonna hold tight gonna grab afternoon delight', 'abl control neg thought', 'soon dusk dawn alway night day take treasur star cloud gift dark bright', '1 burn desir must love goal thinkandgrowrich health money happi love', 'beauti thing ever seen eclipse2017 eclips solareclips tear', 'instead ask bless god father remain engag pilgrimag remembr never get tire spiritu pilgrimag', 'morn hilari 馃槀馃槀', 'told jump bridg', 'realli wanna get back play apex stream', 'nytim pattonoswalt happi abl expand heart find happi congratul 鉂わ笍', 'new year anxieti still', 'creative_voic scotparl happi help', 'show love one care someth happen make start feel way', 'keep relentless eye goal persever joy dedic unwav focu get amyleighmercre', 'wow 9 60 page left first full art book amaz', 'doc say call need anyth bcuz tell want visit point noth new help suffer chew tag one scare', 'wanna cri till die鈥', 'world would told mental healthi unhealthi instead right wrong wouldn鈥檛 made half mistak', 'futur daunt present uncertain make everi moment love one count present 鉂わ笍鉂わ笍', 'sound song thrush fill spring air promis feel like spring start break 馃憤 鉂わ笍鉂わ笍', 'angelakochuba thank follow joy day', 'feel suffoc', 'watch alicelevin love bbciplay hilari', 'tommysandhu bbcasiannetwork tommi r phenomen smash ajjdin mix hilari awesom 馃槣馃槀馃槀馃憤馃徎', 'exist depress feel like life depress isn鈥檛 live it鈥檚 exist keep love one close contact love treasur', 'gosh feel low late 馃槩', 'mani thing look forward 鈽猴笍 posit lifeisgood', 'bugwan crown teach kiddi flutter', 'joyless faith one jesu die thegospel joy jesu happi', 'caxtonsupport sorri know dm stand know pm 馃槀 sadli dm creat account find', 'strong stay posit make wonder still smile', 'regpcb like world love island drarm worst thing got worri', 'smile could never make frown', 'harry_styl hi h thankyou alway make smile genuin kind deserv happi world 67 801', 'born purpos help make world better place sit noth balrsclub motiv loveisland fear 鉁', 'chikagaiheich carla took eren bench could sit sens weari thought would best 禄', 'grind smarter hustl grind', 'spend major day bed relax amp', 'doddledisney ador 馃槶', 'mental suffer iwanttodi worthless lifewithoutcolor pain suicid', 'commsruss luheron sooooo need call ador needyaunti pupster', 'high 60 yesterday 馃挬weather today', 'three shift start next part tutorship respons enjoyingthelastfewday excit nervou newchallang', 'laugh eddi izzard begun probe fuzz wrongdo involv hous osiri', 'bright place n movie馃挴馃槏', 'seen recent pic liz hurley swim costum look amaz 馃槏 beauti', 'mandersonmsp84 jamadoria tear heartbreak 馃槶', 'care littl mayb die', 'narendramodi realli sad shame', 'taught noth fear go turn dream realiti use peopl fear advantag', 'shakespear dictionari word knotti pate mean block head dull wit', 'chad sarah honestli ex 10 year ago 馃槀馃槀 cbb horrifi', 'march challeng day 4 symptom 4 depress 馃挏馃挏馃挏馃挏', 'think real feel like abl shake tri despair keep get wors everi day start chew separ thing', '鈥淚 can鈥檛 afford hate peopl don鈥檛 kind time 鈥 鈥 bobross 馃挍馃挋 tuesdaymotiv sober xa', 'kikisshh gyorzepp 14 year old cri delight right axelllllllll 鈾モ櫏鈾モ櫏鈾', 'jo_caulfield great gif joy', 'killingthetown alway awesom shanehelmscom make tremend', 'parti tattoo dodi becom cheer song 鉁', 'mike_j_lord welcom 馃槂', 'may god grant us abil see unfail love fill earth 馃審 psalm33 5 awe', 'carli amp', 'wow guy farpostsa truli rock got transfer deal spot well done credibl concis spoton brilliant', 'cpwomensopen brookehenderson cheohospit ottawahuntclub priceless love smile', 'except although nice vulva choos intimid women', 'beyond_scratch ben_nuttal guildfordlib offici pi jam kit arriv raspberrypi excit', 'nadisaonlin happi glad whatev feel drama', 'suicid taboo subject talk it鈥檚 time shout rooftop enough', 'crimemma congratul becom senior lectur well deserv 馃槃', '锘縈ummi came home order pizza even though food fridg fight hypocrisi time jalepeno pine chicken', 'originalmalik2k youfamousenough anthonymuraco gg bro lost cool', 'attent crew happi tuesday everybodi make someon laugh loud today', 'plan lot stuff bed wake next day say', 'diet whole famili order pizza', 'deepli struck presenc express amp soul penetr perform lost bliss ninnukori i_nivethathoma', 'interact innoc soul daili basi still feel sorri advic pleas chang approach chang profess', 'take sad know happi nabsenc valu presenc', 'mst3k punt bunni bunni punt love laugh whoisstevesmith', 'first question follow readi direct pleas shi respond 馃榾', 'dicemor guess got tire war toni rage year', 'chase feel never achiev 馃槏', 'give chelsopat s0ccer15 credit bring chocol milk 馃檹馃徏 grate', 'unitedstandmufc english club get charg club like real madrid bulli get player cheap', 'morn wonder wednesday warm weather amp', 'let start n feel lover happi loyalti truth', 'benmorris04 happi birthday big man 馃憖馃槀鈿斤笍', 'readi take sneaker hurt 馃槶', 'last wednesday call multipl offic tri find help sudden onset yesterday last gotten back everyon full take client whatev reason make feel lot better miseri share 馃', 'nobodi feel shame get help need cancer lung diseas pleas feel shame seek help around possibl mental ill amp', 'world would better without', 'girl want load', 'everyon expect disappoint', 'u know pathet fact dearli miss professor probabl forgot alreadi sad', 'johntasspark well time think concern bright shini price tag match', 'overthink fit solv problem', '鈾 race around seven sea nchase girl make robberi n caus panic everywher go nparti hardi titan 鈾', 'learn thrive', 'weigh today turn lord receiv peac', 'wake realiti noth goe plan acurs world', 'alway wake alarm goe 馃檮', 'anyon els feel like wall close sometim feel low today', 'formula happi rather inertia elat', 'imagin tell someon need help tri find reason blame depress life hard peopl worst', 'spntentat thank first solo run excit andnerv', 'water boil add spagetti', 'annie_hawthorn one 馃槃 cress thorn lunar chronicl good charact arc absolut ador', 'tonight episod gameofthron epic went mani emot watch dragonwhitewalk flippinheck brilliant', 'hate tan line refus tan salon anymor 馃檮', 'oh sweeti anxiou leav countri love one behind know bit physic symptom bc mental issu gave 8 year 6 year bewar trigger', 'realiz much loser like got hobbi talent lazi anyth feel low dont know life', 'mayb lost job recess tri new career path', 'myatt amp', 'best reveng ever success馃憣馃憡馃挭', 'god help depress 馃槥', 'held tight lesson learn reflect longer mirror reflect mirror', 'loganpaul hii logan 馃槏 new maverick recent watch vlog soo', 'ai revol soon possibl n fearless good good', 'shahidafridi37 best great watch u go big sir tremend hit ndt boom boom afridi 馃槏', 'feel ador walmart pajama jennimil jennimiller29 louiselinton', 'life short hide feel afraid say feel', 'ot6 still exist julid deletesoon', 'happi worldfringeday think appropri year perform edfring first time cultureclashuk', 'watch subnatica fun funni igp hilari funni omg amaz nice hilari', 'hi depress gonna kill one day', 'joegibbsrac design scheme interst car whoever approv approv yuck', '馃枻馃挃i choos suppos choos back goes馃様馃枻 http co s2qum3l0y6', 'woke great mood readi get back work 馃槉', 'may find center peac soul joy heart understand mind bless amp prayer 馃尀', 'plz hesit come translat nservic either wait come', 'oh love love love glee billi joel number', 'infosmessl happi birthday hope good day', 'love lifestyl se4l segc sober', 'frown meh', 'featur grill halibut lime basil crust yellow tomato lobster couli yummi seafood', 'depress live bodi fight surviv mind tri die', 'busi battl', 'friend i鈥檓 gonna lie day wish could snap finger would done day i鈥檓 sick tire fight depress', 'give simpl unhappi fedup', 'new madden franchis leagu xb1 come soon follow amp', 'whether glass half empti half full grate even glass someth n optim 馃', 'pleas note aka major depress disord lifestyl issu', 'take moment cognit process thought escap next depress episod lol', 'time get dread back miss 馃槱馃槱 dread head girlswithdread', 'wish care enough notic okay', 'temp drop sky dark n bird went crazi pdx enjoy solareclipse2017 amaz', 'order expand beyond place familiar thing scare', 'hymie094 without hesit', 'reach goal hide drawer keep front face time wednesdaywisdom', 'comfort inspir faith housefir goodfath thank beauti song itswhoiam itswhoyouar youtperfectinallofyourway', 'struggl find balanc', 'ladysculli went got piss local instead 馃槃', 'face find sourc heal without help capabl much allow moment think 馃槂馃а', 'shahidafridi37 best great watch u go big sir tremend hit ndt boom boom afridi 馃槏', 'lost moment without lost world 鉂わ笍馃 world moment lostinthemo', 'never seen someth revolt yet irresist wendi queso must', 'yasso 800 first time kinda fun mayb 4 馃榾 thank bartyasso', 'itsjordansroom good morn well miss jordan cheer day', 'man laugh silli famili amp friend enough life laughter goofi silli 馃槀馃', 'sometim feel numb thing gave pleasur seem burdensom bore chore one biggest battl mental health find enjoy thing love day love seem non exist', 'hyde_myself ye mom alarm xd', 'nah ju love carni best food best music best gr8 vibe famili amp friend pure', 'love grow healthi like heart proud say grow heart', 'friend still laugh 馃槀馃檶馃徎馃敐馃挄 tereza_gray friendsforev laugh summer', 'lone alon feel one care alon depress anxieti', 'atrsya_ truli decid happi 馃槉', 'ever got paid impract joker one peopl tell guy would heartbeat hilari', 'realli bless suffer chronic insomnia know sleep like normal peopl', 'one arm around waist hand crouch pull toward behind back jean around ankl insid', 'minxiebutt even kind 馃槄 need anon feel appreci fellow shipper everi day 馃槉', 'mpsnutrit welcom mpsvt delight grate mpsvt relationship', 'tarekfatah wish well sir extrem straightforward jovial person', 'dude fuck bore', '馃敭messag today posit closer sun', 'free poison labori burden hold grudg stevemaraboli quot', 'current withdraw last night concert', 'mom rais good child societi fuck', 'draw 馃挆valentin s馃挆 littl late', '鈥淚 don鈥檛 know i鈥檓 ever gonna make road鈥濔煄', 'gutoaberconwi major 635 member public believ offend rather 635 voter', 'alway laugh cheap medicin 馃ぃ', 'dicksonemili snap streak 260 amaz know commit', 'happi birthday anni hope best beauti bless brilliant balsam bigheart birthday ever anniecarney_', 'happi birthday馃帀馃帀鉂わ笍馃槝 courtneymcm142 love miss bunch amp', 'depress diseas trust', 'happi confid kind n n kissableslovesmshopmag nalloutdenimfor kissmarc', 'mine babi headach love smile frown wrong right pain happi everyth', 'honeyfriess happythought start week', 'ladi sing realli loudli headphon make everyon giggl greateranglia train journey smile', 'new music friday first singl next project untitl mattrod hiphop boston hartford animos thesemyc', 'honestli done life continu show never get help need therapist support friend readi lose battl reason way get heal', 'broken rib year ago start hurt like hell today rebroken thing psychosomat also it鈥檚 becom full time extra job keep staff happi it鈥檚 extrem rough day af', 'stephenasmith made laugh today told caller turn volum marvingay thing leviti', 'ruckmefun hope bigger thing fret lol', 'executivegoth tri free alpha trial watch dread sold worth subscript alon incred', 'least lewishamilton turn outrag thing f1live kaiserchief', 'best support right', 'shlmrie ohh im kiliigg hahaha flatter thank youuu 馃挍', 'man fill dad life insur paperwork realli put damper tuesday morn realli make feel final', 'exam stress better 1 marjana 2 marijuana 馃檪', 'author copi land australia agent soon abl hold one flick excit stonecircl', 'noth like good leg workout start day 馃', 'pleas note song depress actual mean get us depress drag us deep', 'guy like mask call smile 馃檪 infjproblem infj adult workingthroughthepain life love joy mask smile', 'd_bushaiba nalhussaini_ happi birthday 7ayate鉂わ笍', 'good laugh long sleep two best cure 鈥 irish proverb laughter sleep happi', 'razdannidhi improv makeup dear avoid reduct viewership', 'go script weekend wait start film actorslif actresslif actress horrorfilm horrormovi', 'pretti accur look am鈥', 'look littl guy connect magic self 馃槆 nwhat keep life magic 馃寛 anewperspect magic', 'got ride wit amanda coker break 77 year old bicycl world record awesom athlet amandacok tdf relentless', 'even though rain sun shine andrewgoldman_i andrewgoldman_i wisdom think philosophi knowledg life happi joy best', 'even though hardest matur walk away peopl threaten peac mind self respect moral self worth', 'yesterday realli hard day lost best friend like brother alway lookin sinc day met', 'picki guy intimid let dude run run life financ u respect bye', 'pretti soon fake smile genuin come heart', 'vega', 'help hope it鈥檚 comfort someon els seri mind moment 7', 'peopl make laugh littl louder smile littl brighter life littl better', 'psilocybin grow aid person suffer serv depress serv anxieti ptsd trauma', 'soon ex wife need learn chill amp', 'gm tuesday', 'life preciou even depress state don鈥檛 allow us see 馃檹馃徏', 'happi happi birthday girl never fail brighten everyon day thank everyth alway 馃', 'reach peopl oil hand speak peopl ear heart heart someon empti chest search light someone鈥檚 darkness鈥', 'wit pure beauti ft lauderdal solareclispe2017', 'brain patient heart', 'without laughter life planet would intoler', 'we鈥檙 learn socialis need consid place we鈥檙 start', 'cri work it鈥檚 tough day鈥', 'wanna go fuck school tmr hate life 馃 馃', 'don鈥檛 get pick trigger get pick react next time someon get mad feel rememb', 'ot6 still exist julid deletesoon', 'smartest way complex hard amp lengthi negoti consult insult bojo pleas take note never late learn', 'work kitchen tabl 3d whir next work facebook stuff printer stimpack bliss', 'better way relax put face mask bath drink tea listen john mayer bliss', 'happi birthday shanteriai miss ton excit back florida hear turkey 馃尞date 馃挍馃帀', 'good morn start 2wheel free cours pune 8888006565', 'hold everi moment calm rage sea walk fire heal diseas 馃挄馃挄馃挄鉂も潳', 'bcfc_commun excel jnr blue parent meet tonit lot info given cheer all馃憤 futuresbright develop baileyu12 excit 馃槂鈿', 'bugusdiemon happi birthday cuzzo mani blessing馃檶馃従馃挭馃従馃嚦馃嚞馃挴 keepgrind bless', 'happi birthday 鉂わ笍 bless', 'hard thought normal let pass like train rather stop feel', 'indian fan hate joe buck im glad look old af 馃槀 bitter allstargam', 'morn good vibe today peopl juli 11 2017 09 00am goodmorn twitter happi', 'note8 anim said pen amaz wife love one', 'ghibiiyoongi happi birthday love 馃帀馃巵 hope best day glad met馃挄', 'oh yeon kdrama nice still awe dara friend hope kdrama soon', 'love start write session moon river breakfast tiffani soundtrack perform audrey hepburn amwrit bliss', 'bollybigbolt cheer pink make colour pop x', 'whatev life give even hurt strong act way alway strong wall shake never collaps', 'music empow nit liter bring peopl tear smile laughter mani emot', 'know pain know world', 'lordeworldru lordel ur welcom buddi u kid awesom 馃槝', 'riley_sag happi us public day riley excit everyon yet read amaz finalgirl twodaysfor馃嚞馃嚙', 'randyrainbow brilliant amp', 'done festiv tomorrow clear auditorium put away noth unfulfil wife cat piss reek hous mediocr nothing rest get job gonna hit hard', 'got 150 mcgregor wanna bet seriou', 'drain mental emot', 'jinsproduc thank much draw whole lot anymor long hair jun inspir', 'tremend initi hitkpkd amp', 'thepurcompani tri pur mojito lime mint delici 馃槝happi nationalmojitoday contest win 鉁咅煉', 'seulgi fret okay', 'alarm set long lie plan tomorrow馃槏 bliss', 'lidl_ireland wonder experi trim star 猸愶笍 joileta made shop wonder experi help', 'tri hard happi pain get', 'im gna bread finner', 'm00nlightjul happi birthday mamon 馃槃', 'liz_hanburi oh jumper turn colder 馃槦 terrif day馃檵馃徏馃尭馃尲馃尰馃挄馃挄', 'new music friday first singl next project untitl mattrod hiphop boston hartford animos thesemyc', '5 877 impress last 24 hour insight pleasur enlighten today hope servic usa', 'think see sign dumbass鈥 http co 9fmpqbns94', 'want whole show chrislhay read emoji ador inner', 'whenev u bad day rememb bitch stalk like religion see ur happier 馃槝', 'arquipimp 馃槀馃槀馃槀馃槀 nu mean overpric english club nreal madrid see bayern threat look 馃槀', 'men laugh label brother softi open case domest violenc woman man molest bar woman made horni glass wine amp noth said hear take loo say vice versa', 'hoeshiko use wrong fowl sorri disappoint pleas killm', 'davidlammi kind abus unbeliev absolut disgrac make sad see dismay', 'tarabrazil2 guess got ghd now馃槂馃槂 need dread come get readi mine boot straighter', '131 lyttleton love hope reason would despair', 'today wank target long sexi tongu nthat fetish long yummi tongu nif girl want sent tongu photo love', 'go bigappl tomorrow love njtransit commut wear khaki whiteshirt maybeblu brownsho maci joy jealousyet n usa', 'i鈥檓 6 mo ketamin therapi depress brain complet differ feel like depress wire rip never thought would get day let alon week without cri it鈥檚 amaz feel happi', '2nd time week receiv servic free pay nice kind friendli bekind smile', 'funni quot joke hilari joke quot day funni joke pic great humor quot', '馃槩馃挃i give serv size diet noth never good enough', 'discourag', 'want friendship group like friend 馃槯', 'monarch realli hang', 'love hashtag_donjon love youu thank smile motiv keep go 馃挍 bless 馃槉', 'wake earli workout fit room smell aw come back room core', 'shahidafridi37 best great watch u go big sir tremend hit ndt boom boom afridi 馃槏', 'diagnos tenni elbow dec amp right scapula pain year pain daili becom depress final broke pt today pain depress get pleas cross finger someth resolv http co uot3ynmj5d', 'see farrah get rude mother horribl dr drew tonight women need help teenmomog', 'joker job make public smile amp', 'deserv oscar鈥檚 stun perform high function human crumbl societi 锔', 'summer draw close incred build life dream kind hard work amp imagin manifest music', 'presid us tweet like regina georg', 'promot taeni tiff ye 馃憣', 'tenderlov listen cusec 2015 talk inspir write confer talk tornado laugh', 'ah shit鈥 go i鈥檓 realli fuck tier', 'horni anyon horni bi sex london snapchat gaysnap hornysnap snapchatgay snapchathorni gaysnapchat hornysnapchat snapgay snap', 'gut punch use pride good mask liter read rethink entir approach', 'thank god grace', 'alway say happi also tire fake smile', '鈥淟ove either break apart like glass stay togeth like glue end action word mean behind all鈥', 'hope walk solid ground soon shit heavi fuck', 'don鈥檛 overthink doubt 馃 enough end stori releas anxiou thought lie don鈥檛 believ believ yourself馃グ good day 馃尲 http co h8p0ctdhf5', 'q know 6 afraid 7 7 8 9 7 eat 9 suppos get 3 squar meal day joke funni', 'nearli 12 clock listen music girli make howl danc oldtun daughter laugh memori', 'wow last chick bit intens poor freddi bit unnerv lol ninjawarriorau', 'love aerialwarehous conquer fear gain strength grace 馃挭馃徏馃挮馃挏 aerialsilk aerialart', 'total repres becom sleep like normal peopl even feel comfort', 'mani year despis oliv thought chang delight', 'add snapchat dm snapcod amosc snapchat sc snap', 'brain like bunch gear spin today mind bad neighborhood neighbor tri kill suicid intrus thought stop', 'dictionari word joy 鈥 glad cheer exult raptur pleasur delight', 'love shack shake', 'offic hero 馃憦 dogs_of_instagram ador doglov', 'back guy gone wife die 馃槶馃樀馃様', 'dig deep spirit tri hold posit despit depress everi sinc quit job last year鈥 t鈥檚 daili struggl get wors get better either', 'legit one coolest experi lifetim amaz solareclips', 'coachforward respect breed cooper wherea fear breed doubt well said', 'katsekhotho lemii_loco falter katli', 'new instructionalcoach world would love know fave resourc high school new ic nervou excit', 'lie pool john ice cream drink 29 degre listen bust 鉁岎煆硷笍 bliss', 'want perfect bad everi mistak make break heart 馃挃', 'us deal take minut day someon something鈥 i鈥檓 thank platform allow reach peopl say one said hope 馃帡', 'kind everyon struggl someth see sometim even issu call amp often go overlook', 'g鈥橫orn i鈥檝 live underneath rock past day felt like 100 year head today beat feel day 馃挌', 'peopl truli amaz inspir day', 'combin laughabl knick pair basebal get cancel low get day', 'need get littl funk write write funk writerslif depress', 'love swim reason love medit feel weightless', 'dobreluca alway make smile 馃槍', 'liter tfln best thing use spend hour read shit colleg still fuck funni die hilari', 'anyway realli damn depress week week even access account pleas follow get friend hope', 'dread go work earli morn alway come back home happi amp', 'adam sandler actual super hilari amp', 'matter much zescounitedfc light forest end get lost 馃槀 n zescoforest n ssbola', 'mourn death hope today jame', 'best day life 19 year old besti scare away 22 year old thug amaz inspir mongay', 'smoke cigarrett kinda fun', 'ritsakuru awe sorri na', '01mattwhit football__tweet deadlinedayl brilliant 馃槀 music make', 'nathansyk happi tuesday hope amaz day proud amp', 'pineappl neither appl pine fact larg berri', 'supervisor prais publicli work everi grad student work tire made feel unintellig spite high gpa work tire prove other would walk away invest much', 'walmarttoday hit spot commerci love one town come eat bring chair brilliant', 'feel beyond powerless helpless', 'libertyse realdonaldtrump lizcrokin great start maga', 'frick dalebrisbi hilari lovin portray rancher pick feed bag amp', 'suppress moment anger may prevent mani day sorrow chines proverb n n makingmegaturkeywithmcliss', 'good news everyth temporari also bad news', 'live downtown first time tiff happen schedul today excit thechildrenact stanleytucci emmathompson', '鈥淟et us becom weari good proper time reap harvest give 鈥漒ngalatian 6 9 niv', 'tare tabbi abaci rabid dab', 'rewatch rkelli trap closet seri 馃槀馃槀馃槀 classic hilari']\n"
     ]
    }
   ],
   "source": [
    "# Lets start processing\n",
    "corpus = []\n",
    "for i in range(0, data.shape[0]):\n",
    "#    if i < 10:\n",
    "#        print(\"\\n\",data['Message'][i])\n",
    "    msg = data[\"Message\"][i]\n",
    "    # email addess\n",
    "    msg = re.sub(\"\\b[a-zA-Z0-9._%+-]+@[a-zA-Z0-9.-]+\\.[a-zA-Z]{2,}\\b\", \"emailaddr\", data[\"Message\"][i])\n",
    "    \n",
    "    \n",
    "    # url \n",
    "    \n",
    "    msg = re.sub(\"https?:\\/\\/(www\\.)?[-a-zA-Z0-9@:%._\\+~#=]{1,256}\\.[a-zA-Z0-9()]{1,6}\\b([-a-zA-Z0-9()@:%_\\+.~#?&//=]*)\", \"url\", data['Message'][i])\n",
    "    \n",
    "    # Mobile no\n",
    "    \n",
    "    msg = re.sub(\"/^(\\+\\d{1,3}[- ]?)?\\d{10}$/\",\"mobile\", data['Message'][i])\n",
    "    \n",
    "    # Number\n",
    "    \n",
    "    msg = re.sub(\"\\d+(\\.\\d+)?\",\"number\",data['Message'][i])\n",
    "    #Phone number\n",
    "    msg = re.sub(\"\\b(\\+\\d{1,2}\\s)?\\d?[\\-(.]?\\d{3}\\)?[\\s.-]?\\d{3}[\\s.-]?\\d{4}\\b\",\"phoneno\",data['Message'][i])\n",
    "    \n",
    "    # punctuation\n",
    "    \n",
    "    msg = re.sub(\"[^\\w\\d\\s]\",\" \", data['Message'][i])\n",
    "    \n",
    "    # convert to lower case\n",
    "    \n",
    "    msg = msg.lower()\n",
    "    # craete tokens using split\n",
    "    msg = msg.split()\n",
    "    #print only for 10 messages\n",
    "    #if i < 10:\n",
    "        #print(\"Message-After Split: \",msg)\n",
    "    \n",
    "    # apply stemming on it to remove stopwords\n",
    "    # porter stemmer\n",
    "    \n",
    "    msg = [ps.stem(word) for word in msg if not word in set(stopwords.words('english'))]\n",
    "    \n",
    "    #print(\"Message-After Stemming: \",msg)\n",
    "    # preparing message with remaining tokens\n",
    "    msg = \" \".join(msg)\n",
    "    \n",
    "    # preparing a corpus\n",
    "    \n",
    "    corpus.append(msg)\n",
    "print(corpus)"
   ]
  },
  {
   "cell_type": "code",
   "execution_count": 20,
   "metadata": {},
   "outputs": [],
   "source": [
    "# Prepare a vector using countvectorizer\n",
    "\n",
    "from sklearn.feature_extraction.text import CountVectorizer\n",
    "\n",
    "cv = CountVectorizer()\n",
    "cv.fit(corpus)\n",
    "sparse_input = cv.fit_transform(corpus)\n",
    "\n",
    "# during model implementation we need data in dense format and current input is a sparse data\n",
    "# convert it to array\n",
    "input = sparse_input.toarray()"
   ]
  },
  {
   "cell_type": "code",
   "execution_count": 21,
   "metadata": {},
   "outputs": [
    {
     "data": {
      "text/plain": [
       "array([[0, 0, 0, ..., 0, 0, 0],\n",
       "       [0, 0, 0, ..., 0, 0, 0],\n",
       "       [0, 0, 0, ..., 0, 0, 0],\n",
       "       ...,\n",
       "       [0, 0, 0, ..., 0, 0, 0],\n",
       "       [0, 0, 0, ..., 0, 0, 0],\n",
       "       [0, 0, 0, ..., 0, 0, 0]])"
      ]
     },
     "execution_count": 21,
     "metadata": {},
     "output_type": "execute_result"
    }
   ],
   "source": [
    "input"
   ]
  },
  {
   "cell_type": "code",
   "execution_count": 22,
   "metadata": {},
   "outputs": [
    {
     "data": {
      "text/html": [
       "<div>\n",
       "<style scoped>\n",
       "    .dataframe tbody tr th:only-of-type {\n",
       "        vertical-align: middle;\n",
       "    }\n",
       "\n",
       "    .dataframe tbody tr th {\n",
       "        vertical-align: top;\n",
       "    }\n",
       "\n",
       "    .dataframe thead th {\n",
       "        text-align: right;\n",
       "    }\n",
       "</style>\n",
       "<table border=\"1\" class=\"dataframe\">\n",
       "  <thead>\n",
       "    <tr style=\"text-align: right;\">\n",
       "      <th></th>\n",
       "      <th>Message</th>\n",
       "      <th>Label</th>\n",
       "    </tr>\n",
       "  </thead>\n",
       "  <tbody>\n",
       "    <tr>\n",
       "      <th>0</th>\n",
       "      <td>Best evening adult drink w/chocolate #satisfac...</td>\n",
       "      <td>0</td>\n",
       "    </tr>\n",
       "    <tr>\n",
       "      <th>1</th>\n",
       "      <td>A SPELLBINDING performance by @DebsNewbold. El...</td>\n",
       "      <td>0</td>\n",
       "    </tr>\n",
       "    <tr>\n",
       "      <th>2</th>\n",
       "      <td>@LogitechUK Been there done that</td>\n",
       "      <td>0</td>\n",
       "    </tr>\n",
       "    <tr>\n",
       "      <th>3</th>\n",
       "      <td>I love #tattoos but seriously #justtattooofus ...</td>\n",
       "      <td>0</td>\n",
       "    </tr>\n",
       "    <tr>\n",
       "      <th>4</th>\n",
       "      <td>Well. Its been like two weeks and I still feel...</td>\n",
       "      <td>1</td>\n",
       "    </tr>\n",
       "  </tbody>\n",
       "</table>\n",
       "</div>"
      ],
      "text/plain": [
       "                                             Message  Label\n",
       "0  Best evening adult drink w/chocolate #satisfac...      0\n",
       "1  A SPELLBINDING performance by @DebsNewbold. El...      0\n",
       "2                   @LogitechUK Been there done that      0\n",
       "3  I love #tattoos but seriously #justtattooofus ...      0\n",
       "4  Well. Its been like two weeks and I still feel...      1"
      ]
     },
     "execution_count": 22,
     "metadata": {},
     "output_type": "execute_result"
    }
   ],
   "source": [
    "data.head()"
   ]
  },
  {
   "cell_type": "code",
   "execution_count": 23,
   "metadata": {},
   "outputs": [],
   "source": [
    "# select output i.e Label \n",
    "\n",
    "output = data.iloc[:,-1]"
   ]
  },
  {
   "cell_type": "code",
   "execution_count": 24,
   "metadata": {},
   "outputs": [
    {
     "data": {
      "text/plain": [
       "0    0\n",
       "1    0\n",
       "2    0\n",
       "3    0\n",
       "4    1\n",
       "Name: Label, dtype: int64"
      ]
     },
     "execution_count": 24,
     "metadata": {},
     "output_type": "execute_result"
    }
   ],
   "source": [
    "output.head()"
   ]
  },
  {
   "cell_type": "code",
   "execution_count": 25,
   "metadata": {},
   "outputs": [],
   "source": [
    "# we have input and output ready, now split data in input and output sets\n",
    "from sklearn.model_selection import train_test_split\n",
    "\n",
    "xtrain, xtest, ytrain, ytest = train_test_split(input, output, test_size=0.2, random_state=0)"
   ]
  },
  {
   "cell_type": "code",
   "execution_count": 26,
   "metadata": {},
   "outputs": [
    {
     "data": {
      "text/plain": [
       "(1404, 4946)"
      ]
     },
     "execution_count": 26,
     "metadata": {},
     "output_type": "execute_result"
    }
   ],
   "source": [
    "xtrain.shape"
   ]
  },
  {
   "cell_type": "code",
   "execution_count": 27,
   "metadata": {},
   "outputs": [
    {
     "data": {
      "text/plain": [
       "(1404,)"
      ]
     },
     "execution_count": 27,
     "metadata": {},
     "output_type": "execute_result"
    }
   ],
   "source": [
    "ytrain.shape"
   ]
  },
  {
   "cell_type": "code",
   "execution_count": 28,
   "metadata": {},
   "outputs": [
    {
     "data": {
      "text/plain": [
       "(351, 4946)"
      ]
     },
     "execution_count": 28,
     "metadata": {},
     "output_type": "execute_result"
    }
   ],
   "source": [
    "xtest.shape"
   ]
  },
  {
   "cell_type": "code",
   "execution_count": 29,
   "metadata": {},
   "outputs": [
    {
     "data": {
      "text/plain": [
       "(351,)"
      ]
     },
     "execution_count": 29,
     "metadata": {},
     "output_type": "execute_result"
    }
   ],
   "source": [
    "ytest.shape"
   ]
  },
  {
   "cell_type": "code",
   "execution_count": 30,
   "metadata": {},
   "outputs": [
    {
     "name": "stdout",
     "output_type": "stream",
     "text": [
      "Accuracy:\n",
      "  0.7863247863247863\n",
      "Confusion Matrix:\n",
      "  [[166  44]\n",
      " [ 31 110]]\n",
      "Classification rep[ort]:\n",
      "                precision    recall  f1-score   support\n",
      "\n",
      "           0       0.84      0.79      0.82       210\n",
      "           1       0.71      0.78      0.75       141\n",
      "\n",
      "    accuracy                           0.79       351\n",
      "   macro avg       0.78      0.79      0.78       351\n",
      "weighted avg       0.79      0.79      0.79       351\n",
      "\n"
     ]
    }
   ],
   "source": [
    "# Create and implement a model for prediction\n",
    "from sklearn.naive_bayes import GaussianNB\n",
    "model_gnb = GaussianNB()\n",
    "# fit and predict values\n",
    "model_gnb.fit(xtrain,ytrain)\n",
    "pred = model_gnb.predict(xtest)\n",
    "\n",
    "# Lets chec accuracy of model\n",
    "from sklearn.metrics import accuracy_score, classification_report, confusion_matrix\n",
    "\n",
    "acc = accuracy_score(ytest,pred)\n",
    "cm = confusion_matrix(ytest, pred)\n",
    "cr = classification_report(ytest, pred)\n",
    "\n",
    "print(\"Accuracy:\\n \",acc)\n",
    "print(\"Confusion Matrix:\\n \",cm)\n",
    "print(\"Classification rep[ort]:\\n \",cr)"
   ]
  },
  {
   "cell_type": "code",
   "execution_count": 31,
   "metadata": {},
   "outputs": [
    {
     "name": "stdout",
     "output_type": "stream",
     "text": [
      "Accuracy:\n",
      "  0.792022792022792\n",
      "Confusion Matrix:\n",
      "  [[161  49]\n",
      " [ 24 117]]\n",
      "Classification rep[ort]:\n",
      "                precision    recall  f1-score   support\n",
      "\n",
      "           0       0.87      0.77      0.82       210\n",
      "           1       0.70      0.83      0.76       141\n",
      "\n",
      "    accuracy                           0.79       351\n",
      "   macro avg       0.79      0.80      0.79       351\n",
      "weighted avg       0.80      0.79      0.79       351\n",
      "\n"
     ]
    }
   ],
   "source": [
    "# Create and implement a model for prediction\n",
    "from sklearn.tree import DecisionTreeClassifier\n",
    "model_dt = DecisionTreeClassifier()\n",
    "# fit and predict values\n",
    "model_dt.fit(xtrain,ytrain)\n",
    "pred = model_dt.predict(xtest)\n",
    "\n",
    "# Lets chec accuracy of model\n",
    "from sklearn.metrics import accuracy_score, classification_report, confusion_matrix\n",
    "\n",
    "acc = accuracy_score(ytest,pred)\n",
    "cm = confusion_matrix(ytest, pred)\n",
    "cr = classification_report(ytest, pred)\n",
    "\n",
    "print(\"Accuracy:\\n \",acc)\n",
    "print(\"Confusion Matrix:\\n \",cm)\n",
    "print(\"Classification rep[ort]:\\n \",cr)"
   ]
  },
  {
   "cell_type": "code",
   "execution_count": 32,
   "metadata": {},
   "outputs": [
    {
     "name": "stdout",
     "output_type": "stream",
     "text": [
      "Accuracy:\n",
      "  0.8575498575498576\n",
      "Confusion Matrix:\n",
      "  [[183  27]\n",
      " [ 23 118]]\n",
      "Classification rep[ort]:\n",
      "                precision    recall  f1-score   support\n",
      "\n",
      "           0       0.89      0.87      0.88       210\n",
      "           1       0.81      0.84      0.83       141\n",
      "\n",
      "    accuracy                           0.86       351\n",
      "   macro avg       0.85      0.85      0.85       351\n",
      "weighted avg       0.86      0.86      0.86       351\n",
      "\n"
     ]
    }
   ],
   "source": [
    "# Create and implement a model for prediction\n",
    "from sklearn.ensemble import RandomForestClassifier\n",
    "model_rf = RandomForestClassifier()\n",
    "# fit and predict values\n",
    "model_rf.fit(xtrain,ytrain)\n",
    "pred = model_rf.predict(xtest)\n",
    "\n",
    "# Lets chec accuracy of model\n",
    "from sklearn.metrics import accuracy_score, classification_report, confusion_matrix\n",
    "\n",
    "acc = accuracy_score(ytest,pred)\n",
    "cm = confusion_matrix(ytest, pred)\n",
    "cr = classification_report(ytest, pred)\n",
    "\n",
    "print(\"Accuracy:\\n \",acc)\n",
    "print(\"Confusion Matrix:\\n \",cm)\n",
    "print(\"Classification rep[ort]:\\n \",cr)"
   ]
  },
  {
   "cell_type": "code",
   "execution_count": 33,
   "metadata": {},
   "outputs": [],
   "source": [
    "import pickle"
   ]
  },
  {
   "cell_type": "code",
   "execution_count": 34,
   "metadata": {},
   "outputs": [],
   "source": [
    "pickle.dump(model_rf,open('depression_model.pkl','wb'))"
   ]
  },
  {
   "cell_type": "code",
   "execution_count": 38,
   "metadata": {},
   "outputs": [],
   "source": [
    "model=pickle.load(open('depression_model.pkl','rb'))"
   ]
  },
  {
   "cell_type": "code",
   "execution_count": 39,
   "metadata": {},
   "outputs": [
    {
     "data": {
      "text/plain": [
       "array([0, 1, 0, 1, 0, 0, 1, 0, 0, 0, 0, 0, 1, 0, 0, 1, 0, 0, 1, 1, 1, 0,\n",
       "       1, 0, 0, 1, 1, 1, 1, 1, 0, 0, 1, 0, 0, 1, 0, 1, 0, 0, 0, 1, 1, 0,\n",
       "       1, 0, 0, 1, 1, 0, 1, 0, 0, 0, 1, 1, 0, 0, 1, 1, 1, 0, 0, 0, 0, 0,\n",
       "       1, 0, 0, 1, 1, 1, 0, 1, 0, 1, 0, 1, 0, 0, 1, 1, 0, 0, 0, 1, 0, 0,\n",
       "       1, 0, 0, 0, 1, 1, 0, 0, 0, 0, 0, 1, 0, 0, 1, 0, 0, 0, 1, 0, 0, 1,\n",
       "       0, 0, 0, 1, 0, 0, 1, 0, 1, 0, 0, 1, 1, 0, 1, 0, 0, 1, 0, 0, 0, 0,\n",
       "       0, 0, 1, 0, 0, 0, 0, 1, 0, 1, 0, 0, 1, 0, 0, 0, 0, 1, 1, 1, 0, 1,\n",
       "       0, 1, 0, 0, 0, 0, 1, 1, 1, 1, 0, 0, 1, 1, 1, 0, 1, 1, 0, 1, 0, 1,\n",
       "       1, 1, 0, 0, 1, 1, 0, 0, 1, 0, 0, 1, 0, 0, 0, 0, 1, 1, 1, 0, 0, 1,\n",
       "       0, 0, 0, 1, 1, 1, 1, 0, 0, 0, 0, 1, 1, 0, 0, 1, 0, 0, 0, 1, 0, 1,\n",
       "       0, 1, 1, 0, 0, 1, 0, 0, 1, 0, 0, 0, 0, 1, 1, 0, 1, 1, 0, 0, 0, 0,\n",
       "       1, 0, 0, 0, 1, 1, 0, 0, 1, 0, 0, 1, 1, 0, 1, 0, 1, 0, 1, 0, 0, 0,\n",
       "       0, 1, 1, 1, 0, 1, 1, 1, 0, 0, 1, 1, 0, 0, 0, 1, 1, 1, 1, 0, 1, 1,\n",
       "       0, 1, 0, 0, 0, 1, 1, 1, 0, 0, 0, 0, 0, 1, 0, 0, 0, 0, 0, 1, 1, 1,\n",
       "       0, 1, 0, 0, 0, 0, 0, 1, 0, 1, 0, 0, 1, 0, 0, 0, 1, 0, 1, 0, 1, 0,\n",
       "       1, 1, 0, 1, 0, 0, 1, 1, 0, 0, 0, 1, 1, 0, 0, 1, 1, 0, 1, 1, 0])"
      ]
     },
     "execution_count": 39,
     "metadata": {},
     "output_type": "execute_result"
    }
   ],
   "source": [
    "model.predict(xtest)"
   ]
  },
  {
   "cell_type": "code",
   "execution_count": null,
   "metadata": {},
   "outputs": [],
   "source": []
  }
 ],
 "metadata": {
  "kernelspec": {
   "display_name": "Python 3",
   "language": "python",
   "name": "python3"
  },
  "language_info": {
   "codemirror_mode": {
    "name": "ipython",
    "version": 3
   },
   "file_extension": ".py",
   "mimetype": "text/x-python",
   "name": "python",
   "nbconvert_exporter": "python",
   "pygments_lexer": "ipython3",
   "version": "3.8.8"
  }
 },
 "nbformat": 4,
 "nbformat_minor": 4
}
